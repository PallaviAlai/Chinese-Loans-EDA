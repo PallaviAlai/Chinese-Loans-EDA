{
 "cells": [
  {
   "cell_type": "markdown",
   "metadata": {},
   "source": [
    "### Import Libraries"
   ]
  },
  {
   "cell_type": "code",
   "execution_count": 1,
   "metadata": {},
   "outputs": [],
   "source": [
    "import warnings\n",
    "warnings.filterwarnings('ignore')\n",
    "import numpy as np\n",
    "import pandas as pd\n",
    "import matplotlib.pyplot as plt\n",
    "%matplotlib inline\n",
    "import seaborn as sns"
   ]
  },
  {
   "cell_type": "markdown",
   "metadata": {},
   "source": [
    "### Import the dataset"
   ]
  },
  {
   "cell_type": "code",
   "execution_count": 2,
   "metadata": {},
   "outputs": [
    {
     "data": {
      "text/html": [
       "<div>\n",
       "<style scoped>\n",
       "    .dataframe tbody tr th:only-of-type {\n",
       "        vertical-align: middle;\n",
       "    }\n",
       "\n",
       "    .dataframe tbody tr th {\n",
       "        vertical-align: top;\n",
       "    }\n",
       "\n",
       "    .dataframe thead th {\n",
       "        text-align: right;\n",
       "    }\n",
       "</style>\n",
       "<table border=\"1\" class=\"dataframe\">\n",
       "  <thead>\n",
       "    <tr style=\"text-align: right;\">\n",
       "      <th></th>\n",
       "      <th>Expand All | Collapse All</th>\n",
       "      <th>YEAR</th>\n",
       "      <th>AMOUNT</th>\n",
       "      <th>LENDER</th>\n",
       "      <th>BORROWER</th>\n",
       "      <th>SECTOR</th>\n",
       "      <th>SENSITIVE TERRITORY OVERLAP</th>\n",
       "      <th>Country</th>\n",
       "    </tr>\n",
       "  </thead>\n",
       "  <tbody>\n",
       "    <tr>\n",
       "      <th>0</th>\n",
       "      <td>“Lar Patriota\" Infrastructure (Phase 1)</td>\n",
       "      <td>2011</td>\n",
       "      <td>$50M</td>\n",
       "      <td>CDB</td>\n",
       "      <td>Government</td>\n",
       "      <td>Transport</td>\n",
       "      <td>None Known</td>\n",
       "      <td>Angola</td>\n",
       "    </tr>\n",
       "    <tr>\n",
       "      <th>1</th>\n",
       "      <td>10-Year Oil Supply Plan (10Mt/Year), \"Oil for ...</td>\n",
       "      <td>2009</td>\n",
       "      <td>$7.0B</td>\n",
       "      <td>CDB</td>\n",
       "      <td>Petrobras</td>\n",
       "      <td>Extraction, pipelines</td>\n",
       "      <td>None Known</td>\n",
       "      <td>Brazil</td>\n",
       "    </tr>\n",
       "    <tr>\n",
       "      <th>2</th>\n",
       "      <td>1000 housing project</td>\n",
       "      <td>2012</td>\n",
       "      <td>$47M</td>\n",
       "      <td>ExImBank</td>\n",
       "      <td>Government</td>\n",
       "      <td>Government</td>\n",
       "      <td>None Known</td>\n",
       "      <td>Suriname</td>\n",
       "    </tr>\n",
       "    <tr>\n",
       "      <th>3</th>\n",
       "      <td>115kV Transmission Line and Substation from Ph...</td>\n",
       "      <td>2009</td>\n",
       "      <td>$475M</td>\n",
       "      <td>ExImBank</td>\n",
       "      <td>Electricite Du Cambodge</td>\n",
       "      <td>Power</td>\n",
       "      <td>None Known</td>\n",
       "      <td>Cambodia</td>\n",
       "    </tr>\n",
       "    <tr>\n",
       "      <th>4</th>\n",
       "      <td>151 Multisector infrastructure projects</td>\n",
       "      <td>2016</td>\n",
       "      <td>$600M</td>\n",
       "      <td>CDB</td>\n",
       "      <td>Central Bank of Kenya</td>\n",
       "      <td>Mulit-sector/discretionary</td>\n",
       "      <td>None Known</td>\n",
       "      <td>Kenya</td>\n",
       "    </tr>\n",
       "  </tbody>\n",
       "</table>\n",
       "</div>"
      ],
      "text/plain": [
       "                           Expand All | Collapse All  YEAR AMOUNT    LENDER  \\\n",
       "0            “Lar Patriota\" Infrastructure (Phase 1)  2011   $50M       CDB   \n",
       "1  10-Year Oil Supply Plan (10Mt/Year), \"Oil for ...  2009  $7.0B       CDB   \n",
       "2                               1000 housing project  2012   $47M  ExImBank   \n",
       "3  115kV Transmission Line and Substation from Ph...  2009  $475M  ExImBank   \n",
       "4            151 Multisector infrastructure projects  2016  $600M       CDB   \n",
       "\n",
       "                  BORROWER                      SECTOR  \\\n",
       "0               Government                   Transport   \n",
       "1                Petrobras       Extraction, pipelines   \n",
       "2               Government                  Government   \n",
       "3  Electricite Du Cambodge                       Power   \n",
       "4    Central Bank of Kenya  Mulit-sector/discretionary   \n",
       "\n",
       "  SENSITIVE TERRITORY OVERLAP   Country  \n",
       "0                  None Known    Angola  \n",
       "1                  None Known    Brazil  \n",
       "2                  None Known  Suriname  \n",
       "3                  None Known  Cambodia  \n",
       "4                  None Known     Kenya  "
      ]
     },
     "execution_count": 2,
     "metadata": {},
     "output_type": "execute_result"
    }
   ],
   "source": [
    "df = pd.read_csv('chinese debt trap all over the world. - projects.csv')\n",
    "df.head()"
   ]
  },
  {
   "cell_type": "code",
   "execution_count": 3,
   "metadata": {},
   "outputs": [
    {
     "data": {
      "text/plain": [
       "(858, 8)"
      ]
     },
     "execution_count": 3,
     "metadata": {},
     "output_type": "execute_result"
    }
   ],
   "source": [
    "df.shape"
   ]
  },
  {
   "cell_type": "markdown",
   "metadata": {},
   "source": [
    "**1. The given data has 8 columns and it has data for 858 loans.**\n",
    "\n",
    "**2. The 'YEAR' column indicates the year in which the loan was taken.**\n",
    "\n",
    "**3. The 'AMOUNT' column has the amount of loan taken in millions or billions.**\n",
    "\n",
    "**4. The 'LENDER' column indicates the bank from China which has given the loan.**\n",
    "\n",
    "**5. The 'BORROWER' column indicates who has taken the loan, it can be the Government or any private company.**\n",
    "\n",
    "**6. The 'SECTOR' column indicates the sector for which the loan was taken.**\n",
    "\n",
    "**7. The 'COUNTRY' column indicates the country which has taken the loan.**\n",
    "\n",
    "**8. 'Expand All | Collapse All' and 'SENSITIVE TERRITORY OVERLAP' columns need to be studied in detail.**"
   ]
  },
  {
   "cell_type": "markdown",
   "metadata": {},
   "source": [
    "### Exploratory Data Analysis"
   ]
  },
  {
   "cell_type": "code",
   "execution_count": 4,
   "metadata": {},
   "outputs": [
    {
     "name": "stdout",
     "output_type": "stream",
     "text": [
      "<class 'pandas.core.frame.DataFrame'>\n",
      "RangeIndex: 858 entries, 0 to 857\n",
      "Data columns (total 8 columns):\n",
      " #   Column                       Non-Null Count  Dtype \n",
      "---  ------                       --------------  ----- \n",
      " 0   Expand All | Collapse All    858 non-null    object\n",
      " 1   YEAR                         858 non-null    int64 \n",
      " 2   AMOUNT                       858 non-null    object\n",
      " 3   LENDER                       858 non-null    object\n",
      " 4   BORROWER                     857 non-null    object\n",
      " 5   SECTOR                       858 non-null    object\n",
      " 6   SENSITIVE TERRITORY OVERLAP  858 non-null    object\n",
      " 7   Country                      858 non-null    object\n",
      "dtypes: int64(1), object(7)\n",
      "memory usage: 30.2+ KB\n"
     ]
    }
   ],
   "source": [
    "df.info()"
   ]
  },
  {
   "cell_type": "code",
   "execution_count": 5,
   "metadata": {},
   "outputs": [
    {
     "data": {
      "text/plain": [
       "Expand All | Collapse All      0\n",
       "YEAR                           0\n",
       "AMOUNT                         0\n",
       "LENDER                         0\n",
       "BORROWER                       1\n",
       "SECTOR                         0\n",
       "SENSITIVE TERRITORY OVERLAP    0\n",
       "Country                        0\n",
       "dtype: int64"
      ]
     },
     "execution_count": 5,
     "metadata": {},
     "output_type": "execute_result"
    }
   ],
   "source": [
    "df.isna().sum()"
   ]
  },
  {
   "cell_type": "markdown",
   "metadata": {},
   "source": [
    "There is a null value 'BORROWER' column.\n",
    "So, the best option is to drop entire rows consisting of null values."
   ]
  },
  {
   "cell_type": "code",
   "execution_count": 6,
   "metadata": {},
   "outputs": [],
   "source": [
    "df.dropna(inplace=True)"
   ]
  },
  {
   "cell_type": "code",
   "execution_count": 7,
   "metadata": {},
   "outputs": [
    {
     "data": {
      "text/plain": [
       "Expand All | Collapse All      0\n",
       "YEAR                           0\n",
       "AMOUNT                         0\n",
       "LENDER                         0\n",
       "BORROWER                       0\n",
       "SECTOR                         0\n",
       "SENSITIVE TERRITORY OVERLAP    0\n",
       "Country                        0\n",
       "dtype: int64"
      ]
     },
     "execution_count": 7,
     "metadata": {},
     "output_type": "execute_result"
    }
   ],
   "source": [
    "df.isna().sum()"
   ]
  },
  {
   "cell_type": "markdown",
   "metadata": {},
   "source": [
    "When we drop a particular row, we miss a particular index in our dataframe.\n",
    "So we will modify the index of our dataframe by assigning a array of serial numbers to it."
   ]
  },
  {
   "cell_type": "code",
   "execution_count": 8,
   "metadata": {},
   "outputs": [
    {
     "data": {
      "text/html": [
       "<div>\n",
       "<style scoped>\n",
       "    .dataframe tbody tr th:only-of-type {\n",
       "        vertical-align: middle;\n",
       "    }\n",
       "\n",
       "    .dataframe tbody tr th {\n",
       "        vertical-align: top;\n",
       "    }\n",
       "\n",
       "    .dataframe thead th {\n",
       "        text-align: right;\n",
       "    }\n",
       "</style>\n",
       "<table border=\"1\" class=\"dataframe\">\n",
       "  <thead>\n",
       "    <tr style=\"text-align: right;\">\n",
       "      <th></th>\n",
       "      <th>Expand All | Collapse All</th>\n",
       "      <th>YEAR</th>\n",
       "      <th>AMOUNT</th>\n",
       "      <th>LENDER</th>\n",
       "      <th>BORROWER</th>\n",
       "      <th>SECTOR</th>\n",
       "      <th>SENSITIVE TERRITORY OVERLAP</th>\n",
       "      <th>Country</th>\n",
       "    </tr>\n",
       "  </thead>\n",
       "  <tbody>\n",
       "    <tr>\n",
       "      <th>0</th>\n",
       "      <td>“Lar Patriota\" Infrastructure (Phase 1)</td>\n",
       "      <td>2011</td>\n",
       "      <td>$50M</td>\n",
       "      <td>CDB</td>\n",
       "      <td>Government</td>\n",
       "      <td>Transport</td>\n",
       "      <td>None Known</td>\n",
       "      <td>Angola</td>\n",
       "    </tr>\n",
       "    <tr>\n",
       "      <th>1</th>\n",
       "      <td>10-Year Oil Supply Plan (10Mt/Year), \"Oil for ...</td>\n",
       "      <td>2009</td>\n",
       "      <td>$7.0B</td>\n",
       "      <td>CDB</td>\n",
       "      <td>Petrobras</td>\n",
       "      <td>Extraction, pipelines</td>\n",
       "      <td>None Known</td>\n",
       "      <td>Brazil</td>\n",
       "    </tr>\n",
       "    <tr>\n",
       "      <th>2</th>\n",
       "      <td>1000 housing project</td>\n",
       "      <td>2012</td>\n",
       "      <td>$47M</td>\n",
       "      <td>ExImBank</td>\n",
       "      <td>Government</td>\n",
       "      <td>Government</td>\n",
       "      <td>None Known</td>\n",
       "      <td>Suriname</td>\n",
       "    </tr>\n",
       "    <tr>\n",
       "      <th>3</th>\n",
       "      <td>115kV Transmission Line and Substation from Ph...</td>\n",
       "      <td>2009</td>\n",
       "      <td>$475M</td>\n",
       "      <td>ExImBank</td>\n",
       "      <td>Electricite Du Cambodge</td>\n",
       "      <td>Power</td>\n",
       "      <td>None Known</td>\n",
       "      <td>Cambodia</td>\n",
       "    </tr>\n",
       "    <tr>\n",
       "      <th>4</th>\n",
       "      <td>151 Multisector infrastructure projects</td>\n",
       "      <td>2016</td>\n",
       "      <td>$600M</td>\n",
       "      <td>CDB</td>\n",
       "      <td>Central Bank of Kenya</td>\n",
       "      <td>Mulit-sector/discretionary</td>\n",
       "      <td>None Known</td>\n",
       "      <td>Kenya</td>\n",
       "    </tr>\n",
       "    <tr>\n",
       "      <th>...</th>\n",
       "      <td>...</td>\n",
       "      <td>...</td>\n",
       "      <td>...</td>\n",
       "      <td>...</td>\n",
       "      <td>...</td>\n",
       "      <td>...</td>\n",
       "      <td>...</td>\n",
       "      <td>...</td>\n",
       "    </tr>\n",
       "    <tr>\n",
       "      <th>852</th>\n",
       "      <td>Zalingei-El Geneinah Road Construction</td>\n",
       "      <td>2009</td>\n",
       "      <td>$120M</td>\n",
       "      <td>ExImBank</td>\n",
       "      <td>Government</td>\n",
       "      <td>Transport</td>\n",
       "      <td>None Known</td>\n",
       "      <td>Sudan</td>\n",
       "    </tr>\n",
       "    <tr>\n",
       "      <th>853</th>\n",
       "      <td>Zanzibar Airport Terminal 2 Expansion</td>\n",
       "      <td>2010</td>\n",
       "      <td>$73M</td>\n",
       "      <td>ExImBank</td>\n",
       "      <td>Government</td>\n",
       "      <td>Transport</td>\n",
       "      <td>None Known</td>\n",
       "      <td>Tanzania</td>\n",
       "    </tr>\n",
       "    <tr>\n",
       "      <th>854</th>\n",
       "      <td>Zemun-Borca bridge</td>\n",
       "      <td>2009</td>\n",
       "      <td>$217M</td>\n",
       "      <td>ExImBank</td>\n",
       "      <td>Government</td>\n",
       "      <td>Transport</td>\n",
       "      <td>None Known</td>\n",
       "      <td>Serbia</td>\n",
       "    </tr>\n",
       "    <tr>\n",
       "      <th>855</th>\n",
       "      <td>Zongo II Hydropower Station</td>\n",
       "      <td>2011</td>\n",
       "      <td>$367M</td>\n",
       "      <td>ExImBank</td>\n",
       "      <td>Government</td>\n",
       "      <td>Power</td>\n",
       "      <td>None Known</td>\n",
       "      <td>Congo, Democratic Republic of the</td>\n",
       "    </tr>\n",
       "    <tr>\n",
       "      <th>856</th>\n",
       "      <td>Zungeru Hydropower Plant Project</td>\n",
       "      <td>2013</td>\n",
       "      <td>$984M</td>\n",
       "      <td>ExImBank</td>\n",
       "      <td>Government</td>\n",
       "      <td>Power</td>\n",
       "      <td>Within Indigenous Peoples' Lands</td>\n",
       "      <td>Nigeria</td>\n",
       "    </tr>\n",
       "  </tbody>\n",
       "</table>\n",
       "<p>857 rows × 8 columns</p>\n",
       "</div>"
      ],
      "text/plain": [
       "                             Expand All | Collapse All  YEAR AMOUNT    LENDER  \\\n",
       "0              “Lar Patriota\" Infrastructure (Phase 1)  2011   $50M       CDB   \n",
       "1    10-Year Oil Supply Plan (10Mt/Year), \"Oil for ...  2009  $7.0B       CDB   \n",
       "2                                 1000 housing project  2012   $47M  ExImBank   \n",
       "3    115kV Transmission Line and Substation from Ph...  2009  $475M  ExImBank   \n",
       "4              151 Multisector infrastructure projects  2016  $600M       CDB   \n",
       "..                                                 ...   ...    ...       ...   \n",
       "852             Zalingei-El Geneinah Road Construction  2009  $120M  ExImBank   \n",
       "853              Zanzibar Airport Terminal 2 Expansion  2010   $73M  ExImBank   \n",
       "854                                 Zemun-Borca bridge  2009  $217M  ExImBank   \n",
       "855                        Zongo II Hydropower Station  2011  $367M  ExImBank   \n",
       "856                   Zungeru Hydropower Plant Project  2013  $984M  ExImBank   \n",
       "\n",
       "                    BORROWER                      SECTOR  \\\n",
       "0                 Government                   Transport   \n",
       "1                  Petrobras       Extraction, pipelines   \n",
       "2                 Government                  Government   \n",
       "3    Electricite Du Cambodge                       Power   \n",
       "4      Central Bank of Kenya  Mulit-sector/discretionary   \n",
       "..                       ...                         ...   \n",
       "852               Government                   Transport   \n",
       "853               Government                   Transport   \n",
       "854               Government                   Transport   \n",
       "855               Government                       Power   \n",
       "856               Government                       Power   \n",
       "\n",
       "          SENSITIVE TERRITORY OVERLAP                            Country  \n",
       "0                          None Known                             Angola  \n",
       "1                          None Known                             Brazil  \n",
       "2                          None Known                           Suriname  \n",
       "3                          None Known                           Cambodia  \n",
       "4                          None Known                              Kenya  \n",
       "..                                ...                                ...  \n",
       "852                        None Known                              Sudan  \n",
       "853                        None Known                           Tanzania  \n",
       "854                        None Known                             Serbia  \n",
       "855                        None Known  Congo, Democratic Republic of the  \n",
       "856  Within Indigenous Peoples' Lands                            Nigeria  \n",
       "\n",
       "[857 rows x 8 columns]"
      ]
     },
     "execution_count": 8,
     "metadata": {},
     "output_type": "execute_result"
    }
   ],
   "source": [
    "df.index = np.arange(857)\n",
    "df"
   ]
  },
  {
   "cell_type": "markdown",
   "metadata": {},
   "source": [
    "### Pre-Processing"
   ]
  },
  {
   "cell_type": "code",
   "execution_count": 9,
   "metadata": {},
   "outputs": [
    {
     "data": {
      "text/plain": [
       "0       $50M\n",
       "1      $7.0B\n",
       "2       $47M\n",
       "3      $475M\n",
       "4      $600M\n",
       "       ...  \n",
       "852    $120M\n",
       "853     $73M\n",
       "854    $217M\n",
       "855    $367M\n",
       "856    $984M\n",
       "Name: AMOUNT, Length: 857, dtype: object"
      ]
     },
     "execution_count": 9,
     "metadata": {},
     "output_type": "execute_result"
    }
   ],
   "source": [
    "df['AMOUNT']"
   ]
  },
  {
   "cell_type": "markdown",
   "metadata": {},
   "source": [
    "All the values in 'AMOUNT' column are strings.\n",
    "We need to convert all the values into numbers so we can plot them and draw inferences."
   ]
  },
  {
   "cell_type": "code",
   "execution_count": 10,
   "metadata": {},
   "outputs": [
    {
     "data": {
      "text/plain": [
       "[50.0, 7000.0, 47.0, 475.0, 600.0]"
      ]
     },
     "execution_count": 10,
     "metadata": {},
     "output_type": "execute_result"
    }
   ],
   "source": [
    "y = []\n",
    "for i in df['AMOUNT']:\n",
    "    i = i.replace('$', '')\n",
    "    if 'B' in i:\n",
    "        i = i.replace('B', '')\n",
    "        i = float(i) * 1000\n",
    "        \n",
    "    elif 'M' in i:\n",
    "        i = i.replace('M', '')\n",
    "        i = float(i) \n",
    "        \n",
    "    y.append(i)\n",
    "y[0:5]"
   ]
  },
  {
   "cell_type": "code",
   "execution_count": 11,
   "metadata": {},
   "outputs": [
    {
     "data": {
      "text/html": [
       "<div>\n",
       "<style scoped>\n",
       "    .dataframe tbody tr th:only-of-type {\n",
       "        vertical-align: middle;\n",
       "    }\n",
       "\n",
       "    .dataframe tbody tr th {\n",
       "        vertical-align: top;\n",
       "    }\n",
       "\n",
       "    .dataframe thead th {\n",
       "        text-align: right;\n",
       "    }\n",
       "</style>\n",
       "<table border=\"1\" class=\"dataframe\">\n",
       "  <thead>\n",
       "    <tr style=\"text-align: right;\">\n",
       "      <th></th>\n",
       "      <th>Expand All | Collapse All</th>\n",
       "      <th>YEAR</th>\n",
       "      <th>AMOUNT</th>\n",
       "      <th>LENDER</th>\n",
       "      <th>BORROWER</th>\n",
       "      <th>SECTOR</th>\n",
       "      <th>SENSITIVE TERRITORY OVERLAP</th>\n",
       "      <th>Country</th>\n",
       "    </tr>\n",
       "  </thead>\n",
       "  <tbody>\n",
       "    <tr>\n",
       "      <th>0</th>\n",
       "      <td>“Lar Patriota\" Infrastructure (Phase 1)</td>\n",
       "      <td>2011</td>\n",
       "      <td>50.0</td>\n",
       "      <td>CDB</td>\n",
       "      <td>Government</td>\n",
       "      <td>Transport</td>\n",
       "      <td>None Known</td>\n",
       "      <td>Angola</td>\n",
       "    </tr>\n",
       "    <tr>\n",
       "      <th>1</th>\n",
       "      <td>10-Year Oil Supply Plan (10Mt/Year), \"Oil for ...</td>\n",
       "      <td>2009</td>\n",
       "      <td>7000.0</td>\n",
       "      <td>CDB</td>\n",
       "      <td>Petrobras</td>\n",
       "      <td>Extraction, pipelines</td>\n",
       "      <td>None Known</td>\n",
       "      <td>Brazil</td>\n",
       "    </tr>\n",
       "    <tr>\n",
       "      <th>2</th>\n",
       "      <td>1000 housing project</td>\n",
       "      <td>2012</td>\n",
       "      <td>47.0</td>\n",
       "      <td>ExImBank</td>\n",
       "      <td>Government</td>\n",
       "      <td>Government</td>\n",
       "      <td>None Known</td>\n",
       "      <td>Suriname</td>\n",
       "    </tr>\n",
       "    <tr>\n",
       "      <th>3</th>\n",
       "      <td>115kV Transmission Line and Substation from Ph...</td>\n",
       "      <td>2009</td>\n",
       "      <td>475.0</td>\n",
       "      <td>ExImBank</td>\n",
       "      <td>Electricite Du Cambodge</td>\n",
       "      <td>Power</td>\n",
       "      <td>None Known</td>\n",
       "      <td>Cambodia</td>\n",
       "    </tr>\n",
       "    <tr>\n",
       "      <th>4</th>\n",
       "      <td>151 Multisector infrastructure projects</td>\n",
       "      <td>2016</td>\n",
       "      <td>600.0</td>\n",
       "      <td>CDB</td>\n",
       "      <td>Central Bank of Kenya</td>\n",
       "      <td>Mulit-sector/discretionary</td>\n",
       "      <td>None Known</td>\n",
       "      <td>Kenya</td>\n",
       "    </tr>\n",
       "  </tbody>\n",
       "</table>\n",
       "</div>"
      ],
      "text/plain": [
       "                           Expand All | Collapse All  YEAR  AMOUNT    LENDER  \\\n",
       "0            “Lar Patriota\" Infrastructure (Phase 1)  2011    50.0       CDB   \n",
       "1  10-Year Oil Supply Plan (10Mt/Year), \"Oil for ...  2009  7000.0       CDB   \n",
       "2                               1000 housing project  2012    47.0  ExImBank   \n",
       "3  115kV Transmission Line and Substation from Ph...  2009   475.0  ExImBank   \n",
       "4            151 Multisector infrastructure projects  2016   600.0       CDB   \n",
       "\n",
       "                  BORROWER                      SECTOR  \\\n",
       "0               Government                   Transport   \n",
       "1                Petrobras       Extraction, pipelines   \n",
       "2               Government                  Government   \n",
       "3  Electricite Du Cambodge                       Power   \n",
       "4    Central Bank of Kenya  Mulit-sector/discretionary   \n",
       "\n",
       "  SENSITIVE TERRITORY OVERLAP   Country  \n",
       "0                  None Known    Angola  \n",
       "1                  None Known    Brazil  \n",
       "2                  None Known  Suriname  \n",
       "3                  None Known  Cambodia  \n",
       "4                  None Known     Kenya  "
      ]
     },
     "execution_count": 11,
     "metadata": {},
     "output_type": "execute_result"
    }
   ],
   "source": [
    "df['AMOUNT'] = y\n",
    "df.head()"
   ]
  },
  {
   "cell_type": "code",
   "execution_count": 12,
   "metadata": {},
   "outputs": [
    {
     "data": {
      "text/plain": [
       "numpy.float64"
      ]
     },
     "execution_count": 12,
     "metadata": {},
     "output_type": "execute_result"
    }
   ],
   "source": [
    "type(df['AMOUNT'][1])"
   ]
  },
  {
   "cell_type": "markdown",
   "metadata": {},
   "source": [
    "Let's see the column Expand All | Collapse All"
   ]
  },
  {
   "cell_type": "code",
   "execution_count": 13,
   "metadata": {},
   "outputs": [
    {
     "data": {
      "text/plain": [
       "827"
      ]
     },
     "execution_count": 13,
     "metadata": {},
     "output_type": "execute_result"
    }
   ],
   "source": [
    "len(df['Expand All | Collapse All'].unique())"
   ]
  },
  {
   "cell_type": "markdown",
   "metadata": {},
   "source": [
    "As we have seen there are 827 unique values for 'Expand All | Collapse All' and the length of the dataframe is 857.\n",
    "So this feature is not useful for us.\n",
    "We have to drop it."
   ]
  },
  {
   "cell_type": "code",
   "execution_count": 14,
   "metadata": {},
   "outputs": [
    {
     "data": {
      "text/html": [
       "<div>\n",
       "<style scoped>\n",
       "    .dataframe tbody tr th:only-of-type {\n",
       "        vertical-align: middle;\n",
       "    }\n",
       "\n",
       "    .dataframe tbody tr th {\n",
       "        vertical-align: top;\n",
       "    }\n",
       "\n",
       "    .dataframe thead th {\n",
       "        text-align: right;\n",
       "    }\n",
       "</style>\n",
       "<table border=\"1\" class=\"dataframe\">\n",
       "  <thead>\n",
       "    <tr style=\"text-align: right;\">\n",
       "      <th></th>\n",
       "      <th>YEAR</th>\n",
       "      <th>AMOUNT</th>\n",
       "      <th>LENDER</th>\n",
       "      <th>BORROWER</th>\n",
       "      <th>SECTOR</th>\n",
       "      <th>SENSITIVE TERRITORY OVERLAP</th>\n",
       "      <th>Country</th>\n",
       "    </tr>\n",
       "  </thead>\n",
       "  <tbody>\n",
       "    <tr>\n",
       "      <th>0</th>\n",
       "      <td>2011</td>\n",
       "      <td>50.0</td>\n",
       "      <td>CDB</td>\n",
       "      <td>Government</td>\n",
       "      <td>Transport</td>\n",
       "      <td>None Known</td>\n",
       "      <td>Angola</td>\n",
       "    </tr>\n",
       "    <tr>\n",
       "      <th>1</th>\n",
       "      <td>2009</td>\n",
       "      <td>7000.0</td>\n",
       "      <td>CDB</td>\n",
       "      <td>Petrobras</td>\n",
       "      <td>Extraction, pipelines</td>\n",
       "      <td>None Known</td>\n",
       "      <td>Brazil</td>\n",
       "    </tr>\n",
       "    <tr>\n",
       "      <th>2</th>\n",
       "      <td>2012</td>\n",
       "      <td>47.0</td>\n",
       "      <td>ExImBank</td>\n",
       "      <td>Government</td>\n",
       "      <td>Government</td>\n",
       "      <td>None Known</td>\n",
       "      <td>Suriname</td>\n",
       "    </tr>\n",
       "    <tr>\n",
       "      <th>3</th>\n",
       "      <td>2009</td>\n",
       "      <td>475.0</td>\n",
       "      <td>ExImBank</td>\n",
       "      <td>Electricite Du Cambodge</td>\n",
       "      <td>Power</td>\n",
       "      <td>None Known</td>\n",
       "      <td>Cambodia</td>\n",
       "    </tr>\n",
       "    <tr>\n",
       "      <th>4</th>\n",
       "      <td>2016</td>\n",
       "      <td>600.0</td>\n",
       "      <td>CDB</td>\n",
       "      <td>Central Bank of Kenya</td>\n",
       "      <td>Mulit-sector/discretionary</td>\n",
       "      <td>None Known</td>\n",
       "      <td>Kenya</td>\n",
       "    </tr>\n",
       "  </tbody>\n",
       "</table>\n",
       "</div>"
      ],
      "text/plain": [
       "   YEAR  AMOUNT    LENDER                 BORROWER  \\\n",
       "0  2011    50.0       CDB               Government   \n",
       "1  2009  7000.0       CDB                Petrobras   \n",
       "2  2012    47.0  ExImBank               Government   \n",
       "3  2009   475.0  ExImBank  Electricite Du Cambodge   \n",
       "4  2016   600.0       CDB    Central Bank of Kenya   \n",
       "\n",
       "                       SECTOR SENSITIVE TERRITORY OVERLAP   Country  \n",
       "0                   Transport                  None Known    Angola  \n",
       "1       Extraction, pipelines                  None Known    Brazil  \n",
       "2                  Government                  None Known  Suriname  \n",
       "3                       Power                  None Known  Cambodia  \n",
       "4  Mulit-sector/discretionary                  None Known     Kenya  "
      ]
     },
     "execution_count": 14,
     "metadata": {},
     "output_type": "execute_result"
    }
   ],
   "source": [
    "df.drop('Expand All | Collapse All', axis=1, inplace=True)\n",
    "df.head()"
   ]
  },
  {
   "cell_type": "markdown",
   "metadata": {},
   "source": [
    "Now let's see the unique values for 'LENDER' column"
   ]
  },
  {
   "cell_type": "code",
   "execution_count": 15,
   "metadata": {},
   "outputs": [
    {
     "data": {
      "text/plain": [
       "array(['CDB', 'ExImBank', 'CDB, ExImBank', 'BOC, CDB, ExImBank',\n",
       "       'CDB, ICBC', 'CDB, others', 'CDB, Citic'], dtype=object)"
      ]
     },
     "execution_count": 15,
     "metadata": {},
     "output_type": "execute_result"
    }
   ],
   "source": [
    "df['LENDER'].unique()"
   ]
  },
  {
   "cell_type": "code",
   "execution_count": 16,
   "metadata": {},
   "outputs": [
    {
     "data": {
      "text/plain": [
       "7"
      ]
     },
     "execution_count": 16,
     "metadata": {},
     "output_type": "execute_result"
    }
   ],
   "source": [
    "len(df['LENDER'].unique())"
   ]
  },
  {
   "cell_type": "code",
   "execution_count": 17,
   "metadata": {},
   "outputs": [
    {
     "data": {
      "text/plain": [
       "[['ExImBank'],\n",
       " ['ExImBank'],\n",
       " ['ExImBank'],\n",
       " ['ExImBank'],\n",
       " ['CDB'],\n",
       " ['ExImBank'],\n",
       " ['ExImBank'],\n",
       " ['ExImBank'],\n",
       " ['ExImBank'],\n",
       " ['ExImBank'],\n",
       " ['ExImBank'],\n",
       " ['ExImBank'],\n",
       " ['ExImBank'],\n",
       " ['ExImBank'],\n",
       " ['ExImBank'],\n",
       " ['ExImBank'],\n",
       " ['ExImBank'],\n",
       " ['ExImBank'],\n",
       " ['ExImBank'],\n",
       " ['BOC', ' CDB', ' ExImBank'],\n",
       " ['ExImBank'],\n",
       " ['ExImBank'],\n",
       " ['ExImBank'],\n",
       " ['ExImBank'],\n",
       " ['ExImBank'],\n",
       " ['ExImBank'],\n",
       " ['ExImBank'],\n",
       " ['ExImBank'],\n",
       " ['CDB'],\n",
       " ['CDB']]"
      ]
     },
     "execution_count": 17,
     "metadata": {},
     "output_type": "execute_result"
    }
   ],
   "source": [
    "c = []\n",
    "d = []\n",
    "for i in df['LENDER']:\n",
    "    c = i.split(',')\n",
    "    d.append(c)\n",
    "    \n",
    "d[220:250]"
   ]
  },
  {
   "cell_type": "code",
   "execution_count": 18,
   "metadata": {},
   "outputs": [
    {
     "data": {
      "text/html": [
       "<div>\n",
       "<style scoped>\n",
       "    .dataframe tbody tr th:only-of-type {\n",
       "        vertical-align: middle;\n",
       "    }\n",
       "\n",
       "    .dataframe tbody tr th {\n",
       "        vertical-align: top;\n",
       "    }\n",
       "\n",
       "    .dataframe thead th {\n",
       "        text-align: right;\n",
       "    }\n",
       "</style>\n",
       "<table border=\"1\" class=\"dataframe\">\n",
       "  <thead>\n",
       "    <tr style=\"text-align: right;\">\n",
       "      <th></th>\n",
       "      <th>YEAR</th>\n",
       "      <th>AMOUNT</th>\n",
       "      <th>LENDER</th>\n",
       "      <th>BORROWER</th>\n",
       "      <th>SECTOR</th>\n",
       "      <th>SENSITIVE TERRITORY OVERLAP</th>\n",
       "      <th>Country</th>\n",
       "    </tr>\n",
       "  </thead>\n",
       "  <tbody>\n",
       "    <tr>\n",
       "      <th>0</th>\n",
       "      <td>2011</td>\n",
       "      <td>50.0</td>\n",
       "      <td>[CDB]</td>\n",
       "      <td>Government</td>\n",
       "      <td>Transport</td>\n",
       "      <td>None Known</td>\n",
       "      <td>Angola</td>\n",
       "    </tr>\n",
       "    <tr>\n",
       "      <th>1</th>\n",
       "      <td>2009</td>\n",
       "      <td>7000.0</td>\n",
       "      <td>[CDB]</td>\n",
       "      <td>Petrobras</td>\n",
       "      <td>Extraction, pipelines</td>\n",
       "      <td>None Known</td>\n",
       "      <td>Brazil</td>\n",
       "    </tr>\n",
       "    <tr>\n",
       "      <th>2</th>\n",
       "      <td>2012</td>\n",
       "      <td>47.0</td>\n",
       "      <td>[ExImBank]</td>\n",
       "      <td>Government</td>\n",
       "      <td>Government</td>\n",
       "      <td>None Known</td>\n",
       "      <td>Suriname</td>\n",
       "    </tr>\n",
       "    <tr>\n",
       "      <th>3</th>\n",
       "      <td>2009</td>\n",
       "      <td>475.0</td>\n",
       "      <td>[ExImBank]</td>\n",
       "      <td>Electricite Du Cambodge</td>\n",
       "      <td>Power</td>\n",
       "      <td>None Known</td>\n",
       "      <td>Cambodia</td>\n",
       "    </tr>\n",
       "    <tr>\n",
       "      <th>4</th>\n",
       "      <td>2016</td>\n",
       "      <td>600.0</td>\n",
       "      <td>[CDB]</td>\n",
       "      <td>Central Bank of Kenya</td>\n",
       "      <td>Mulit-sector/discretionary</td>\n",
       "      <td>None Known</td>\n",
       "      <td>Kenya</td>\n",
       "    </tr>\n",
       "  </tbody>\n",
       "</table>\n",
       "</div>"
      ],
      "text/plain": [
       "   YEAR  AMOUNT      LENDER                 BORROWER  \\\n",
       "0  2011    50.0       [CDB]               Government   \n",
       "1  2009  7000.0       [CDB]                Petrobras   \n",
       "2  2012    47.0  [ExImBank]               Government   \n",
       "3  2009   475.0  [ExImBank]  Electricite Du Cambodge   \n",
       "4  2016   600.0       [CDB]    Central Bank of Kenya   \n",
       "\n",
       "                       SECTOR SENSITIVE TERRITORY OVERLAP   Country  \n",
       "0                   Transport                  None Known    Angola  \n",
       "1       Extraction, pipelines                  None Known    Brazil  \n",
       "2                  Government                  None Known  Suriname  \n",
       "3                       Power                  None Known  Cambodia  \n",
       "4  Mulit-sector/discretionary                  None Known     Kenya  "
      ]
     },
     "execution_count": 18,
     "metadata": {},
     "output_type": "execute_result"
    }
   ],
   "source": [
    "df['LENDER'] = d\n",
    "df.head()"
   ]
  },
  {
   "cell_type": "markdown",
   "metadata": {},
   "source": [
    "We can use MultiLabelBinarizer, it creates new columns for unique values but unlike One Hot Encoding.\n",
    "\n",
    "MultiLabelBinarizer appends 1 to the respective column if that value is present and 0 if that value is absent for that particular row.\n",
    "\n",
    "MulitLabelBinarizer will append 1 to CDB and also 1 to ExImBank if that value in 'LENDER' is 'CDB,ExImBank'"
   ]
  },
  {
   "cell_type": "code",
   "execution_count": 19,
   "metadata": {},
   "outputs": [],
   "source": [
    "from sklearn.preprocessing import MultiLabelBinarizer"
   ]
  },
  {
   "cell_type": "code",
   "execution_count": 20,
   "metadata": {},
   "outputs": [],
   "source": [
    "mlb = MultiLabelBinarizer()"
   ]
  },
  {
   "cell_type": "code",
   "execution_count": 21,
   "metadata": {},
   "outputs": [
    {
     "data": {
      "text/html": [
       "<div>\n",
       "<style scoped>\n",
       "    .dataframe tbody tr th:only-of-type {\n",
       "        vertical-align: middle;\n",
       "    }\n",
       "\n",
       "    .dataframe tbody tr th {\n",
       "        vertical-align: top;\n",
       "    }\n",
       "\n",
       "    .dataframe thead th {\n",
       "        text-align: right;\n",
       "    }\n",
       "</style>\n",
       "<table border=\"1\" class=\"dataframe\">\n",
       "  <thead>\n",
       "    <tr style=\"text-align: right;\">\n",
       "      <th></th>\n",
       "      <th>YEAR</th>\n",
       "      <th>AMOUNT</th>\n",
       "      <th>BORROWER</th>\n",
       "      <th>SECTOR</th>\n",
       "      <th>SENSITIVE TERRITORY OVERLAP</th>\n",
       "      <th>Country</th>\n",
       "      <th>CDB</th>\n",
       "      <th>Citic</th>\n",
       "      <th>ExImBank</th>\n",
       "      <th>ICBC</th>\n",
       "      <th>others</th>\n",
       "      <th>BOC</th>\n",
       "      <th>CDB</th>\n",
       "      <th>ExImBank</th>\n",
       "    </tr>\n",
       "  </thead>\n",
       "  <tbody>\n",
       "    <tr>\n",
       "      <th>0</th>\n",
       "      <td>2011</td>\n",
       "      <td>50.0</td>\n",
       "      <td>Government</td>\n",
       "      <td>Transport</td>\n",
       "      <td>None Known</td>\n",
       "      <td>Angola</td>\n",
       "      <td>0</td>\n",
       "      <td>0</td>\n",
       "      <td>0</td>\n",
       "      <td>0</td>\n",
       "      <td>0</td>\n",
       "      <td>0</td>\n",
       "      <td>1</td>\n",
       "      <td>0</td>\n",
       "    </tr>\n",
       "    <tr>\n",
       "      <th>1</th>\n",
       "      <td>2009</td>\n",
       "      <td>7000.0</td>\n",
       "      <td>Petrobras</td>\n",
       "      <td>Extraction, pipelines</td>\n",
       "      <td>None Known</td>\n",
       "      <td>Brazil</td>\n",
       "      <td>0</td>\n",
       "      <td>0</td>\n",
       "      <td>0</td>\n",
       "      <td>0</td>\n",
       "      <td>0</td>\n",
       "      <td>0</td>\n",
       "      <td>1</td>\n",
       "      <td>0</td>\n",
       "    </tr>\n",
       "    <tr>\n",
       "      <th>2</th>\n",
       "      <td>2012</td>\n",
       "      <td>47.0</td>\n",
       "      <td>Government</td>\n",
       "      <td>Government</td>\n",
       "      <td>None Known</td>\n",
       "      <td>Suriname</td>\n",
       "      <td>0</td>\n",
       "      <td>0</td>\n",
       "      <td>0</td>\n",
       "      <td>0</td>\n",
       "      <td>0</td>\n",
       "      <td>0</td>\n",
       "      <td>0</td>\n",
       "      <td>1</td>\n",
       "    </tr>\n",
       "    <tr>\n",
       "      <th>3</th>\n",
       "      <td>2009</td>\n",
       "      <td>475.0</td>\n",
       "      <td>Electricite Du Cambodge</td>\n",
       "      <td>Power</td>\n",
       "      <td>None Known</td>\n",
       "      <td>Cambodia</td>\n",
       "      <td>0</td>\n",
       "      <td>0</td>\n",
       "      <td>0</td>\n",
       "      <td>0</td>\n",
       "      <td>0</td>\n",
       "      <td>0</td>\n",
       "      <td>0</td>\n",
       "      <td>1</td>\n",
       "    </tr>\n",
       "    <tr>\n",
       "      <th>4</th>\n",
       "      <td>2016</td>\n",
       "      <td>600.0</td>\n",
       "      <td>Central Bank of Kenya</td>\n",
       "      <td>Mulit-sector/discretionary</td>\n",
       "      <td>None Known</td>\n",
       "      <td>Kenya</td>\n",
       "      <td>0</td>\n",
       "      <td>0</td>\n",
       "      <td>0</td>\n",
       "      <td>0</td>\n",
       "      <td>0</td>\n",
       "      <td>0</td>\n",
       "      <td>1</td>\n",
       "      <td>0</td>\n",
       "    </tr>\n",
       "  </tbody>\n",
       "</table>\n",
       "</div>"
      ],
      "text/plain": [
       "   YEAR  AMOUNT                 BORROWER                      SECTOR  \\\n",
       "0  2011    50.0               Government                   Transport   \n",
       "1  2009  7000.0                Petrobras       Extraction, pipelines   \n",
       "2  2012    47.0               Government                  Government   \n",
       "3  2009   475.0  Electricite Du Cambodge                       Power   \n",
       "4  2016   600.0    Central Bank of Kenya  Mulit-sector/discretionary   \n",
       "\n",
       "  SENSITIVE TERRITORY OVERLAP   Country   CDB   Citic   ExImBank   ICBC  \\\n",
       "0                  None Known    Angola     0       0          0      0   \n",
       "1                  None Known    Brazil     0       0          0      0   \n",
       "2                  None Known  Suriname     0       0          0      0   \n",
       "3                  None Known  Cambodia     0       0          0      0   \n",
       "4                  None Known     Kenya     0       0          0      0   \n",
       "\n",
       "    others  BOC  CDB  ExImBank  \n",
       "0        0    0    1         0  \n",
       "1        0    0    1         0  \n",
       "2        0    0    0         1  \n",
       "3        0    0    0         1  \n",
       "4        0    0    1         0  "
      ]
     },
     "execution_count": 21,
     "metadata": {},
     "output_type": "execute_result"
    }
   ],
   "source": [
    "df = df.join(pd.DataFrame(mlb.fit_transform(df.pop('LENDER')), index=df.index, columns = mlb.classes_))\n",
    "df.head()"
   ]
  },
  {
   "cell_type": "markdown",
   "metadata": {},
   "source": [
    "MultiLabelBinarizer has created new columns for the unique values in the lists"
   ]
  },
  {
   "cell_type": "code",
   "execution_count": 22,
   "metadata": {},
   "outputs": [
    {
     "data": {
      "text/plain": [
       "Index(['YEAR', 'AMOUNT', 'BORROWER', 'SECTOR', 'SENSITIVE TERRITORY OVERLAP',\n",
       "       'Country', ' CDB', ' Citic', ' ExImBank', ' ICBC', ' others', 'BOC',\n",
       "       'CDB', 'ExImBank'],\n",
       "      dtype='object')"
      ]
     },
     "execution_count": 22,
     "metadata": {},
     "output_type": "execute_result"
    }
   ],
   "source": [
    "df.columns"
   ]
  },
  {
   "cell_type": "code",
   "execution_count": 23,
   "metadata": {},
   "outputs": [
    {
     "data": {
      "text/html": [
       "<div>\n",
       "<style scoped>\n",
       "    .dataframe tbody tr th:only-of-type {\n",
       "        vertical-align: middle;\n",
       "    }\n",
       "\n",
       "    .dataframe tbody tr th {\n",
       "        vertical-align: top;\n",
       "    }\n",
       "\n",
       "    .dataframe thead th {\n",
       "        text-align: right;\n",
       "    }\n",
       "</style>\n",
       "<table border=\"1\" class=\"dataframe\">\n",
       "  <thead>\n",
       "    <tr style=\"text-align: right;\">\n",
       "      <th></th>\n",
       "      <th>YEAR</th>\n",
       "      <th>AMOUNT</th>\n",
       "      <th>BORROWER</th>\n",
       "      <th>SECTOR</th>\n",
       "      <th>SENSITIVE TERRITORY OVERLAP</th>\n",
       "      <th>Country</th>\n",
       "      <th>CDB</th>\n",
       "      <th>Citic</th>\n",
       "      <th>ExImBank</th>\n",
       "      <th>ICBC</th>\n",
       "      <th>others</th>\n",
       "      <th>BOC</th>\n",
       "      <th>CDB</th>\n",
       "      <th>ExImBank</th>\n",
       "    </tr>\n",
       "  </thead>\n",
       "  <tbody>\n",
       "    <tr>\n",
       "      <th>0</th>\n",
       "      <td>2011</td>\n",
       "      <td>50.0</td>\n",
       "      <td>Government</td>\n",
       "      <td>Transport</td>\n",
       "      <td>None Known</td>\n",
       "      <td>Angola</td>\n",
       "      <td>0</td>\n",
       "      <td>0</td>\n",
       "      <td>0</td>\n",
       "      <td>0</td>\n",
       "      <td>0</td>\n",
       "      <td>0</td>\n",
       "      <td>1</td>\n",
       "      <td>0</td>\n",
       "    </tr>\n",
       "    <tr>\n",
       "      <th>1</th>\n",
       "      <td>2009</td>\n",
       "      <td>7000.0</td>\n",
       "      <td>Petrobras</td>\n",
       "      <td>Extraction, pipelines</td>\n",
       "      <td>None Known</td>\n",
       "      <td>Brazil</td>\n",
       "      <td>0</td>\n",
       "      <td>0</td>\n",
       "      <td>0</td>\n",
       "      <td>0</td>\n",
       "      <td>0</td>\n",
       "      <td>0</td>\n",
       "      <td>1</td>\n",
       "      <td>0</td>\n",
       "    </tr>\n",
       "    <tr>\n",
       "      <th>2</th>\n",
       "      <td>2012</td>\n",
       "      <td>47.0</td>\n",
       "      <td>Government</td>\n",
       "      <td>Government</td>\n",
       "      <td>None Known</td>\n",
       "      <td>Suriname</td>\n",
       "      <td>0</td>\n",
       "      <td>0</td>\n",
       "      <td>0</td>\n",
       "      <td>0</td>\n",
       "      <td>0</td>\n",
       "      <td>0</td>\n",
       "      <td>0</td>\n",
       "      <td>1</td>\n",
       "    </tr>\n",
       "    <tr>\n",
       "      <th>3</th>\n",
       "      <td>2009</td>\n",
       "      <td>475.0</td>\n",
       "      <td>Electricite Du Cambodge</td>\n",
       "      <td>Power</td>\n",
       "      <td>None Known</td>\n",
       "      <td>Cambodia</td>\n",
       "      <td>0</td>\n",
       "      <td>0</td>\n",
       "      <td>0</td>\n",
       "      <td>0</td>\n",
       "      <td>0</td>\n",
       "      <td>0</td>\n",
       "      <td>0</td>\n",
       "      <td>1</td>\n",
       "    </tr>\n",
       "    <tr>\n",
       "      <th>4</th>\n",
       "      <td>2016</td>\n",
       "      <td>600.0</td>\n",
       "      <td>Central Bank of Kenya</td>\n",
       "      <td>Mulit-sector/discretionary</td>\n",
       "      <td>None Known</td>\n",
       "      <td>Kenya</td>\n",
       "      <td>0</td>\n",
       "      <td>0</td>\n",
       "      <td>0</td>\n",
       "      <td>0</td>\n",
       "      <td>0</td>\n",
       "      <td>0</td>\n",
       "      <td>1</td>\n",
       "      <td>0</td>\n",
       "    </tr>\n",
       "  </tbody>\n",
       "</table>\n",
       "</div>"
      ],
      "text/plain": [
       "   YEAR  AMOUNT                 BORROWER                      SECTOR  \\\n",
       "0  2011    50.0               Government                   Transport   \n",
       "1  2009  7000.0                Petrobras       Extraction, pipelines   \n",
       "2  2012    47.0               Government                  Government   \n",
       "3  2009   475.0  Electricite Du Cambodge                       Power   \n",
       "4  2016   600.0    Central Bank of Kenya  Mulit-sector/discretionary   \n",
       "\n",
       "  SENSITIVE TERRITORY OVERLAP   Country   CDB   Citic   ExImBank   ICBC  \\\n",
       "0                  None Known    Angola     0       0          0      0   \n",
       "1                  None Known    Brazil     0       0          0      0   \n",
       "2                  None Known  Suriname     0       0          0      0   \n",
       "3                  None Known  Cambodia     0       0          0      0   \n",
       "4                  None Known     Kenya     0       0          0      0   \n",
       "\n",
       "    others  BOC  CDB  ExImBank  \n",
       "0        0    0    1         0  \n",
       "1        0    0    1         0  \n",
       "2        0    0    0         1  \n",
       "3        0    0    0         1  \n",
       "4        0    0    1         0  "
      ]
     },
     "execution_count": 23,
     "metadata": {},
     "output_type": "execute_result"
    }
   ],
   "source": [
    "for i in range(len(df)):\n",
    "    if df.loc[i,' CDB'] == 1:\n",
    "        df.loc[i,'CDB'] = 1\n",
    "    if df.loc[i,' ExImBank'] == 1:\n",
    "        df.loc[i,'ExImBank'] = 1\n",
    "df.head()"
   ]
  },
  {
   "cell_type": "code",
   "execution_count": 24,
   "metadata": {},
   "outputs": [
    {
     "data": {
      "text/html": [
       "<div>\n",
       "<style scoped>\n",
       "    .dataframe tbody tr th:only-of-type {\n",
       "        vertical-align: middle;\n",
       "    }\n",
       "\n",
       "    .dataframe tbody tr th {\n",
       "        vertical-align: top;\n",
       "    }\n",
       "\n",
       "    .dataframe thead th {\n",
       "        text-align: right;\n",
       "    }\n",
       "</style>\n",
       "<table border=\"1\" class=\"dataframe\">\n",
       "  <thead>\n",
       "    <tr style=\"text-align: right;\">\n",
       "      <th></th>\n",
       "      <th>YEAR</th>\n",
       "      <th>AMOUNT</th>\n",
       "      <th>BORROWER</th>\n",
       "      <th>SECTOR</th>\n",
       "      <th>SENSITIVE TERRITORY OVERLAP</th>\n",
       "      <th>Country</th>\n",
       "      <th>CDB</th>\n",
       "      <th>Citic</th>\n",
       "      <th>ExImBank</th>\n",
       "      <th>ICBC</th>\n",
       "      <th>others</th>\n",
       "      <th>BOC</th>\n",
       "      <th>CDB</th>\n",
       "      <th>ExImBank</th>\n",
       "    </tr>\n",
       "  </thead>\n",
       "  <tbody>\n",
       "    <tr>\n",
       "      <th>239</th>\n",
       "      <td>2017</td>\n",
       "      <td>690.0</td>\n",
       "      <td>Egyptian Electricity Transmission Company</td>\n",
       "      <td>Power</td>\n",
       "      <td>Within Indigenous Peoples' Lands\\n Within Crit...</td>\n",
       "      <td>Egypt</td>\n",
       "      <td>1</td>\n",
       "      <td>0</td>\n",
       "      <td>1</td>\n",
       "      <td>0</td>\n",
       "      <td>0</td>\n",
       "      <td>1</td>\n",
       "      <td>1</td>\n",
       "      <td>1</td>\n",
       "    </tr>\n",
       "  </tbody>\n",
       "</table>\n",
       "</div>"
      ],
      "text/plain": [
       "     YEAR  AMOUNT                                   BORROWER SECTOR  \\\n",
       "239  2017   690.0  Egyptian Electricity Transmission Company  Power   \n",
       "\n",
       "                           SENSITIVE TERRITORY OVERLAP Country   CDB   Citic  \\\n",
       "239  Within Indigenous Peoples' Lands\\n Within Crit...   Egypt     1       0   \n",
       "\n",
       "      ExImBank   ICBC   others  BOC  CDB  ExImBank  \n",
       "239          1      0        0    1    1         1  "
      ]
     },
     "execution_count": 24,
     "metadata": {},
     "output_type": "execute_result"
    }
   ],
   "source": [
    "df[df[' CDB'] == 1]"
   ]
  },
  {
   "cell_type": "code",
   "execution_count": 25,
   "metadata": {},
   "outputs": [
    {
     "data": {
      "text/html": [
       "<div>\n",
       "<style scoped>\n",
       "    .dataframe tbody tr th:only-of-type {\n",
       "        vertical-align: middle;\n",
       "    }\n",
       "\n",
       "    .dataframe tbody tr th {\n",
       "        vertical-align: top;\n",
       "    }\n",
       "\n",
       "    .dataframe thead th {\n",
       "        text-align: right;\n",
       "    }\n",
       "</style>\n",
       "<table border=\"1\" class=\"dataframe\">\n",
       "  <thead>\n",
       "    <tr style=\"text-align: right;\">\n",
       "      <th></th>\n",
       "      <th>YEAR</th>\n",
       "      <th>AMOUNT</th>\n",
       "      <th>BORROWER</th>\n",
       "      <th>SECTOR</th>\n",
       "      <th>SENSITIVE TERRITORY OVERLAP</th>\n",
       "      <th>Country</th>\n",
       "      <th>Citic</th>\n",
       "      <th>ICBC</th>\n",
       "      <th>others</th>\n",
       "      <th>BOC</th>\n",
       "      <th>CDB</th>\n",
       "      <th>ExImBank</th>\n",
       "    </tr>\n",
       "  </thead>\n",
       "  <tbody>\n",
       "    <tr>\n",
       "      <th>0</th>\n",
       "      <td>2011</td>\n",
       "      <td>50.0</td>\n",
       "      <td>Government</td>\n",
       "      <td>Transport</td>\n",
       "      <td>None Known</td>\n",
       "      <td>Angola</td>\n",
       "      <td>0</td>\n",
       "      <td>0</td>\n",
       "      <td>0</td>\n",
       "      <td>0</td>\n",
       "      <td>1</td>\n",
       "      <td>0</td>\n",
       "    </tr>\n",
       "    <tr>\n",
       "      <th>1</th>\n",
       "      <td>2009</td>\n",
       "      <td>7000.0</td>\n",
       "      <td>Petrobras</td>\n",
       "      <td>Extraction, pipelines</td>\n",
       "      <td>None Known</td>\n",
       "      <td>Brazil</td>\n",
       "      <td>0</td>\n",
       "      <td>0</td>\n",
       "      <td>0</td>\n",
       "      <td>0</td>\n",
       "      <td>1</td>\n",
       "      <td>0</td>\n",
       "    </tr>\n",
       "    <tr>\n",
       "      <th>2</th>\n",
       "      <td>2012</td>\n",
       "      <td>47.0</td>\n",
       "      <td>Government</td>\n",
       "      <td>Government</td>\n",
       "      <td>None Known</td>\n",
       "      <td>Suriname</td>\n",
       "      <td>0</td>\n",
       "      <td>0</td>\n",
       "      <td>0</td>\n",
       "      <td>0</td>\n",
       "      <td>0</td>\n",
       "      <td>1</td>\n",
       "    </tr>\n",
       "    <tr>\n",
       "      <th>3</th>\n",
       "      <td>2009</td>\n",
       "      <td>475.0</td>\n",
       "      <td>Electricite Du Cambodge</td>\n",
       "      <td>Power</td>\n",
       "      <td>None Known</td>\n",
       "      <td>Cambodia</td>\n",
       "      <td>0</td>\n",
       "      <td>0</td>\n",
       "      <td>0</td>\n",
       "      <td>0</td>\n",
       "      <td>0</td>\n",
       "      <td>1</td>\n",
       "    </tr>\n",
       "    <tr>\n",
       "      <th>4</th>\n",
       "      <td>2016</td>\n",
       "      <td>600.0</td>\n",
       "      <td>Central Bank of Kenya</td>\n",
       "      <td>Mulit-sector/discretionary</td>\n",
       "      <td>None Known</td>\n",
       "      <td>Kenya</td>\n",
       "      <td>0</td>\n",
       "      <td>0</td>\n",
       "      <td>0</td>\n",
       "      <td>0</td>\n",
       "      <td>1</td>\n",
       "      <td>0</td>\n",
       "    </tr>\n",
       "  </tbody>\n",
       "</table>\n",
       "</div>"
      ],
      "text/plain": [
       "   YEAR  AMOUNT                 BORROWER                      SECTOR  \\\n",
       "0  2011    50.0               Government                   Transport   \n",
       "1  2009  7000.0                Petrobras       Extraction, pipelines   \n",
       "2  2012    47.0               Government                  Government   \n",
       "3  2009   475.0  Electricite Du Cambodge                       Power   \n",
       "4  2016   600.0    Central Bank of Kenya  Mulit-sector/discretionary   \n",
       "\n",
       "  SENSITIVE TERRITORY OVERLAP   Country   Citic   ICBC   others  BOC  CDB  \\\n",
       "0                  None Known    Angola       0      0        0    0    1   \n",
       "1                  None Known    Brazil       0      0        0    0    1   \n",
       "2                  None Known  Suriname       0      0        0    0    0   \n",
       "3                  None Known  Cambodia       0      0        0    0    0   \n",
       "4                  None Known     Kenya       0      0        0    0    1   \n",
       "\n",
       "   ExImBank  \n",
       "0         0  \n",
       "1         0  \n",
       "2         1  \n",
       "3         1  \n",
       "4         0  "
      ]
     },
     "execution_count": 25,
     "metadata": {},
     "output_type": "execute_result"
    }
   ],
   "source": [
    "df.drop(columns = [' CDB', ' ExImBank'], axis = 1, inplace = True)\n",
    "df.head(5)"
   ]
  },
  {
   "cell_type": "markdown",
   "metadata": {},
   "source": [
    "The duplicate columns are dropped."
   ]
  },
  {
   "cell_type": "code",
   "execution_count": 26,
   "metadata": {},
   "outputs": [
    {
     "name": "stdout",
     "output_type": "stream",
     "text": [
      "1\n",
      "2\n",
      "1\n",
      "1\n",
      "232\n",
      "634\n"
     ]
    }
   ],
   "source": [
    "for i in range(6, 12):\n",
    "    print(df.iloc[:, i].sum())"
   ]
  },
  {
   "cell_type": "markdown",
   "metadata": {},
   "source": [
    "As we can see the last 2 columns have the highest sum.\n",
    "\n",
    "The last 2 columns are for 'CDB' and 'ExImBank' and they have given out significant number of loans.\n",
    "\n",
    "Citic, ICBC, BOC have given out very less loans. So we can consider these columns as others."
   ]
  },
  {
   "cell_type": "code",
   "execution_count": 27,
   "metadata": {},
   "outputs": [
    {
     "data": {
      "text/html": [
       "<div>\n",
       "<style scoped>\n",
       "    .dataframe tbody tr th:only-of-type {\n",
       "        vertical-align: middle;\n",
       "    }\n",
       "\n",
       "    .dataframe tbody tr th {\n",
       "        vertical-align: top;\n",
       "    }\n",
       "\n",
       "    .dataframe thead th {\n",
       "        text-align: right;\n",
       "    }\n",
       "</style>\n",
       "<table border=\"1\" class=\"dataframe\">\n",
       "  <thead>\n",
       "    <tr style=\"text-align: right;\">\n",
       "      <th></th>\n",
       "      <th>YEAR</th>\n",
       "      <th>AMOUNT</th>\n",
       "      <th>BORROWER</th>\n",
       "      <th>SECTOR</th>\n",
       "      <th>SENSITIVE TERRITORY OVERLAP</th>\n",
       "      <th>Country</th>\n",
       "      <th>Citic</th>\n",
       "      <th>ICBC</th>\n",
       "      <th>others</th>\n",
       "      <th>BOC</th>\n",
       "      <th>CDB</th>\n",
       "      <th>ExImBank</th>\n",
       "    </tr>\n",
       "  </thead>\n",
       "  <tbody>\n",
       "    <tr>\n",
       "      <th>0</th>\n",
       "      <td>2011</td>\n",
       "      <td>50.0</td>\n",
       "      <td>Government</td>\n",
       "      <td>Transport</td>\n",
       "      <td>None Known</td>\n",
       "      <td>Angola</td>\n",
       "      <td>0</td>\n",
       "      <td>0</td>\n",
       "      <td>0</td>\n",
       "      <td>0</td>\n",
       "      <td>1</td>\n",
       "      <td>0</td>\n",
       "    </tr>\n",
       "    <tr>\n",
       "      <th>1</th>\n",
       "      <td>2009</td>\n",
       "      <td>7000.0</td>\n",
       "      <td>Petrobras</td>\n",
       "      <td>Extraction, pipelines</td>\n",
       "      <td>None Known</td>\n",
       "      <td>Brazil</td>\n",
       "      <td>0</td>\n",
       "      <td>0</td>\n",
       "      <td>0</td>\n",
       "      <td>0</td>\n",
       "      <td>1</td>\n",
       "      <td>0</td>\n",
       "    </tr>\n",
       "    <tr>\n",
       "      <th>2</th>\n",
       "      <td>2012</td>\n",
       "      <td>47.0</td>\n",
       "      <td>Government</td>\n",
       "      <td>Government</td>\n",
       "      <td>None Known</td>\n",
       "      <td>Suriname</td>\n",
       "      <td>0</td>\n",
       "      <td>0</td>\n",
       "      <td>0</td>\n",
       "      <td>0</td>\n",
       "      <td>0</td>\n",
       "      <td>1</td>\n",
       "    </tr>\n",
       "    <tr>\n",
       "      <th>3</th>\n",
       "      <td>2009</td>\n",
       "      <td>475.0</td>\n",
       "      <td>Electricite Du Cambodge</td>\n",
       "      <td>Power</td>\n",
       "      <td>None Known</td>\n",
       "      <td>Cambodia</td>\n",
       "      <td>0</td>\n",
       "      <td>0</td>\n",
       "      <td>0</td>\n",
       "      <td>0</td>\n",
       "      <td>0</td>\n",
       "      <td>1</td>\n",
       "    </tr>\n",
       "    <tr>\n",
       "      <th>4</th>\n",
       "      <td>2016</td>\n",
       "      <td>600.0</td>\n",
       "      <td>Central Bank of Kenya</td>\n",
       "      <td>Mulit-sector/discretionary</td>\n",
       "      <td>None Known</td>\n",
       "      <td>Kenya</td>\n",
       "      <td>0</td>\n",
       "      <td>0</td>\n",
       "      <td>0</td>\n",
       "      <td>0</td>\n",
       "      <td>1</td>\n",
       "      <td>0</td>\n",
       "    </tr>\n",
       "  </tbody>\n",
       "</table>\n",
       "</div>"
      ],
      "text/plain": [
       "   YEAR  AMOUNT                 BORROWER                      SECTOR  \\\n",
       "0  2011    50.0               Government                   Transport   \n",
       "1  2009  7000.0                Petrobras       Extraction, pipelines   \n",
       "2  2012    47.0               Government                  Government   \n",
       "3  2009   475.0  Electricite Du Cambodge                       Power   \n",
       "4  2016   600.0    Central Bank of Kenya  Mulit-sector/discretionary   \n",
       "\n",
       "  SENSITIVE TERRITORY OVERLAP   Country   Citic   ICBC   others  BOC  CDB  \\\n",
       "0                  None Known    Angola       0      0        0    0    1   \n",
       "1                  None Known    Brazil       0      0        0    0    1   \n",
       "2                  None Known  Suriname       0      0        0    0    0   \n",
       "3                  None Known  Cambodia       0      0        0    0    0   \n",
       "4                  None Known     Kenya       0      0        0    0    1   \n",
       "\n",
       "   ExImBank  \n",
       "0         0  \n",
       "1         0  \n",
       "2         1  \n",
       "3         1  \n",
       "4         0  "
      ]
     },
     "execution_count": 27,
     "metadata": {},
     "output_type": "execute_result"
    }
   ],
   "source": [
    "for i in range(len(df)):\n",
    "    if df.loc[i, 'BOC'] == 1:\n",
    "        df.loc[i,' others'] = 1\n",
    "    if df.loc[i, ' Citic'] == 1:\n",
    "        df.loc[i,' others'] = 1\n",
    "    if df.loc[i, ' ICBC'] == 1:\n",
    "        df.loc[i,' others'] = 1\n",
    "df.head(5)"
   ]
  },
  {
   "cell_type": "code",
   "execution_count": 28,
   "metadata": {},
   "outputs": [
    {
     "data": {
      "text/html": [
       "<div>\n",
       "<style scoped>\n",
       "    .dataframe tbody tr th:only-of-type {\n",
       "        vertical-align: middle;\n",
       "    }\n",
       "\n",
       "    .dataframe tbody tr th {\n",
       "        vertical-align: top;\n",
       "    }\n",
       "\n",
       "    .dataframe thead th {\n",
       "        text-align: right;\n",
       "    }\n",
       "</style>\n",
       "<table border=\"1\" class=\"dataframe\">\n",
       "  <thead>\n",
       "    <tr style=\"text-align: right;\">\n",
       "      <th></th>\n",
       "      <th>YEAR</th>\n",
       "      <th>AMOUNT</th>\n",
       "      <th>BORROWER</th>\n",
       "      <th>SECTOR</th>\n",
       "      <th>SENSITIVE TERRITORY OVERLAP</th>\n",
       "      <th>Country</th>\n",
       "      <th>Citic</th>\n",
       "      <th>ICBC</th>\n",
       "      <th>others</th>\n",
       "      <th>BOC</th>\n",
       "      <th>CDB</th>\n",
       "      <th>ExImBank</th>\n",
       "    </tr>\n",
       "  </thead>\n",
       "  <tbody>\n",
       "    <tr>\n",
       "      <th>783</th>\n",
       "      <td>2010</td>\n",
       "      <td>273.0</td>\n",
       "      <td>Government</td>\n",
       "      <td>Transport</td>\n",
       "      <td>None Known</td>\n",
       "      <td>Argentina</td>\n",
       "      <td>1</td>\n",
       "      <td>0</td>\n",
       "      <td>1</td>\n",
       "      <td>0</td>\n",
       "      <td>1</td>\n",
       "      <td>0</td>\n",
       "    </tr>\n",
       "  </tbody>\n",
       "</table>\n",
       "</div>"
      ],
      "text/plain": [
       "     YEAR  AMOUNT    BORROWER     SECTOR SENSITIVE TERRITORY OVERLAP  \\\n",
       "783  2010   273.0  Government  Transport                  None Known   \n",
       "\n",
       "       Country   Citic   ICBC   others  BOC  CDB  ExImBank  \n",
       "783  Argentina       1      0        1    0    1         0  "
      ]
     },
     "execution_count": 28,
     "metadata": {},
     "output_type": "execute_result"
    }
   ],
   "source": [
    "df[df[' Citic'] == 1]"
   ]
  },
  {
   "cell_type": "markdown",
   "metadata": {},
   "source": [
    "Now we can drop ' Citic', 'ICBC' and ' BOC' columns."
   ]
  },
  {
   "cell_type": "code",
   "execution_count": 29,
   "metadata": {},
   "outputs": [
    {
     "data": {
      "text/html": [
       "<div>\n",
       "<style scoped>\n",
       "    .dataframe tbody tr th:only-of-type {\n",
       "        vertical-align: middle;\n",
       "    }\n",
       "\n",
       "    .dataframe tbody tr th {\n",
       "        vertical-align: top;\n",
       "    }\n",
       "\n",
       "    .dataframe thead th {\n",
       "        text-align: right;\n",
       "    }\n",
       "</style>\n",
       "<table border=\"1\" class=\"dataframe\">\n",
       "  <thead>\n",
       "    <tr style=\"text-align: right;\">\n",
       "      <th></th>\n",
       "      <th>YEAR</th>\n",
       "      <th>AMOUNT</th>\n",
       "      <th>BORROWER</th>\n",
       "      <th>SECTOR</th>\n",
       "      <th>SENSITIVE TERRITORY OVERLAP</th>\n",
       "      <th>Country</th>\n",
       "      <th>others</th>\n",
       "      <th>CDB</th>\n",
       "      <th>ExImBank</th>\n",
       "    </tr>\n",
       "  </thead>\n",
       "  <tbody>\n",
       "    <tr>\n",
       "      <th>0</th>\n",
       "      <td>2011</td>\n",
       "      <td>50.0</td>\n",
       "      <td>Government</td>\n",
       "      <td>Transport</td>\n",
       "      <td>None Known</td>\n",
       "      <td>Angola</td>\n",
       "      <td>0</td>\n",
       "      <td>1</td>\n",
       "      <td>0</td>\n",
       "    </tr>\n",
       "    <tr>\n",
       "      <th>1</th>\n",
       "      <td>2009</td>\n",
       "      <td>7000.0</td>\n",
       "      <td>Petrobras</td>\n",
       "      <td>Extraction, pipelines</td>\n",
       "      <td>None Known</td>\n",
       "      <td>Brazil</td>\n",
       "      <td>0</td>\n",
       "      <td>1</td>\n",
       "      <td>0</td>\n",
       "    </tr>\n",
       "    <tr>\n",
       "      <th>2</th>\n",
       "      <td>2012</td>\n",
       "      <td>47.0</td>\n",
       "      <td>Government</td>\n",
       "      <td>Government</td>\n",
       "      <td>None Known</td>\n",
       "      <td>Suriname</td>\n",
       "      <td>0</td>\n",
       "      <td>0</td>\n",
       "      <td>1</td>\n",
       "    </tr>\n",
       "    <tr>\n",
       "      <th>3</th>\n",
       "      <td>2009</td>\n",
       "      <td>475.0</td>\n",
       "      <td>Electricite Du Cambodge</td>\n",
       "      <td>Power</td>\n",
       "      <td>None Known</td>\n",
       "      <td>Cambodia</td>\n",
       "      <td>0</td>\n",
       "      <td>0</td>\n",
       "      <td>1</td>\n",
       "    </tr>\n",
       "    <tr>\n",
       "      <th>4</th>\n",
       "      <td>2016</td>\n",
       "      <td>600.0</td>\n",
       "      <td>Central Bank of Kenya</td>\n",
       "      <td>Mulit-sector/discretionary</td>\n",
       "      <td>None Known</td>\n",
       "      <td>Kenya</td>\n",
       "      <td>0</td>\n",
       "      <td>1</td>\n",
       "      <td>0</td>\n",
       "    </tr>\n",
       "  </tbody>\n",
       "</table>\n",
       "</div>"
      ],
      "text/plain": [
       "   YEAR  AMOUNT                 BORROWER                      SECTOR  \\\n",
       "0  2011    50.0               Government                   Transport   \n",
       "1  2009  7000.0                Petrobras       Extraction, pipelines   \n",
       "2  2012    47.0               Government                  Government   \n",
       "3  2009   475.0  Electricite Du Cambodge                       Power   \n",
       "4  2016   600.0    Central Bank of Kenya  Mulit-sector/discretionary   \n",
       "\n",
       "  SENSITIVE TERRITORY OVERLAP   Country   others  CDB  ExImBank  \n",
       "0                  None Known    Angola        0    1         0  \n",
       "1                  None Known    Brazil        0    1         0  \n",
       "2                  None Known  Suriname        0    0         1  \n",
       "3                  None Known  Cambodia        0    0         1  \n",
       "4                  None Known     Kenya        0    1         0  "
      ]
     },
     "execution_count": 29,
     "metadata": {},
     "output_type": "execute_result"
    }
   ],
   "source": [
    "df.drop(columns = [' Citic', ' ICBC', 'BOC'], axis = 1, inplace = True)\n",
    "df.head(5)"
   ]
  },
  {
   "cell_type": "markdown",
   "metadata": {},
   "source": [
    "Let us rename the newly created columns for better understanding."
   ]
  },
  {
   "cell_type": "code",
   "execution_count": 30,
   "metadata": {},
   "outputs": [
    {
     "data": {
      "text/html": [
       "<div>\n",
       "<style scoped>\n",
       "    .dataframe tbody tr th:only-of-type {\n",
       "        vertical-align: middle;\n",
       "    }\n",
       "\n",
       "    .dataframe tbody tr th {\n",
       "        vertical-align: top;\n",
       "    }\n",
       "\n",
       "    .dataframe thead th {\n",
       "        text-align: right;\n",
       "    }\n",
       "</style>\n",
       "<table border=\"1\" class=\"dataframe\">\n",
       "  <thead>\n",
       "    <tr style=\"text-align: right;\">\n",
       "      <th></th>\n",
       "      <th>YEAR</th>\n",
       "      <th>AMOUNT</th>\n",
       "      <th>BORROWER</th>\n",
       "      <th>SECTOR</th>\n",
       "      <th>SENSITIVE TERRITORY OVERLAP</th>\n",
       "      <th>Country</th>\n",
       "      <th>Lender_Others</th>\n",
       "      <th>Lender_CDB</th>\n",
       "      <th>Lender_Eximbank</th>\n",
       "    </tr>\n",
       "  </thead>\n",
       "  <tbody>\n",
       "    <tr>\n",
       "      <th>0</th>\n",
       "      <td>2011</td>\n",
       "      <td>50.0</td>\n",
       "      <td>Government</td>\n",
       "      <td>Transport</td>\n",
       "      <td>None Known</td>\n",
       "      <td>Angola</td>\n",
       "      <td>0</td>\n",
       "      <td>1</td>\n",
       "      <td>0</td>\n",
       "    </tr>\n",
       "    <tr>\n",
       "      <th>1</th>\n",
       "      <td>2009</td>\n",
       "      <td>7000.0</td>\n",
       "      <td>Petrobras</td>\n",
       "      <td>Extraction, pipelines</td>\n",
       "      <td>None Known</td>\n",
       "      <td>Brazil</td>\n",
       "      <td>0</td>\n",
       "      <td>1</td>\n",
       "      <td>0</td>\n",
       "    </tr>\n",
       "    <tr>\n",
       "      <th>2</th>\n",
       "      <td>2012</td>\n",
       "      <td>47.0</td>\n",
       "      <td>Government</td>\n",
       "      <td>Government</td>\n",
       "      <td>None Known</td>\n",
       "      <td>Suriname</td>\n",
       "      <td>0</td>\n",
       "      <td>0</td>\n",
       "      <td>1</td>\n",
       "    </tr>\n",
       "    <tr>\n",
       "      <th>3</th>\n",
       "      <td>2009</td>\n",
       "      <td>475.0</td>\n",
       "      <td>Electricite Du Cambodge</td>\n",
       "      <td>Power</td>\n",
       "      <td>None Known</td>\n",
       "      <td>Cambodia</td>\n",
       "      <td>0</td>\n",
       "      <td>0</td>\n",
       "      <td>1</td>\n",
       "    </tr>\n",
       "    <tr>\n",
       "      <th>4</th>\n",
       "      <td>2016</td>\n",
       "      <td>600.0</td>\n",
       "      <td>Central Bank of Kenya</td>\n",
       "      <td>Mulit-sector/discretionary</td>\n",
       "      <td>None Known</td>\n",
       "      <td>Kenya</td>\n",
       "      <td>0</td>\n",
       "      <td>1</td>\n",
       "      <td>0</td>\n",
       "    </tr>\n",
       "  </tbody>\n",
       "</table>\n",
       "</div>"
      ],
      "text/plain": [
       "   YEAR  AMOUNT                 BORROWER                      SECTOR  \\\n",
       "0  2011    50.0               Government                   Transport   \n",
       "1  2009  7000.0                Petrobras       Extraction, pipelines   \n",
       "2  2012    47.0               Government                  Government   \n",
       "3  2009   475.0  Electricite Du Cambodge                       Power   \n",
       "4  2016   600.0    Central Bank of Kenya  Mulit-sector/discretionary   \n",
       "\n",
       "  SENSITIVE TERRITORY OVERLAP   Country  Lender_Others  Lender_CDB  \\\n",
       "0                  None Known    Angola              0           1   \n",
       "1                  None Known    Brazil              0           1   \n",
       "2                  None Known  Suriname              0           0   \n",
       "3                  None Known  Cambodia              0           0   \n",
       "4                  None Known     Kenya              0           1   \n",
       "\n",
       "   Lender_Eximbank  \n",
       "0                0  \n",
       "1                0  \n",
       "2                1  \n",
       "3                1  \n",
       "4                0  "
      ]
     },
     "execution_count": 30,
     "metadata": {},
     "output_type": "execute_result"
    }
   ],
   "source": [
    "df.rename(columns = {' others':'Lender_Others', 'CDB':'Lender_CDB', 'ExImBank':'Lender_Eximbank'}, inplace = True)\n",
    "df.head()"
   ]
  },
  {
   "cell_type": "code",
   "execution_count": 31,
   "metadata": {},
   "outputs": [
    {
     "data": {
      "text/html": [
       "<div>\n",
       "<style scoped>\n",
       "    .dataframe tbody tr th:only-of-type {\n",
       "        vertical-align: middle;\n",
       "    }\n",
       "\n",
       "    .dataframe tbody tr th {\n",
       "        vertical-align: top;\n",
       "    }\n",
       "\n",
       "    .dataframe thead th {\n",
       "        text-align: right;\n",
       "    }\n",
       "</style>\n",
       "<table border=\"1\" class=\"dataframe\">\n",
       "  <thead>\n",
       "    <tr style=\"text-align: right;\">\n",
       "      <th></th>\n",
       "      <th>Year</th>\n",
       "      <th>Amount</th>\n",
       "      <th>Borrower</th>\n",
       "      <th>Sector</th>\n",
       "      <th>Territory_overlap</th>\n",
       "      <th>Country</th>\n",
       "      <th>Lender_Others</th>\n",
       "      <th>Lender_CDB</th>\n",
       "      <th>Lender_Eximbank</th>\n",
       "    </tr>\n",
       "  </thead>\n",
       "  <tbody>\n",
       "    <tr>\n",
       "      <th>0</th>\n",
       "      <td>2011</td>\n",
       "      <td>50.0</td>\n",
       "      <td>Government</td>\n",
       "      <td>Transport</td>\n",
       "      <td>None Known</td>\n",
       "      <td>Angola</td>\n",
       "      <td>0</td>\n",
       "      <td>1</td>\n",
       "      <td>0</td>\n",
       "    </tr>\n",
       "    <tr>\n",
       "      <th>1</th>\n",
       "      <td>2009</td>\n",
       "      <td>7000.0</td>\n",
       "      <td>Petrobras</td>\n",
       "      <td>Extraction, pipelines</td>\n",
       "      <td>None Known</td>\n",
       "      <td>Brazil</td>\n",
       "      <td>0</td>\n",
       "      <td>1</td>\n",
       "      <td>0</td>\n",
       "    </tr>\n",
       "    <tr>\n",
       "      <th>2</th>\n",
       "      <td>2012</td>\n",
       "      <td>47.0</td>\n",
       "      <td>Government</td>\n",
       "      <td>Government</td>\n",
       "      <td>None Known</td>\n",
       "      <td>Suriname</td>\n",
       "      <td>0</td>\n",
       "      <td>0</td>\n",
       "      <td>1</td>\n",
       "    </tr>\n",
       "    <tr>\n",
       "      <th>3</th>\n",
       "      <td>2009</td>\n",
       "      <td>475.0</td>\n",
       "      <td>Electricite Du Cambodge</td>\n",
       "      <td>Power</td>\n",
       "      <td>None Known</td>\n",
       "      <td>Cambodia</td>\n",
       "      <td>0</td>\n",
       "      <td>0</td>\n",
       "      <td>1</td>\n",
       "    </tr>\n",
       "    <tr>\n",
       "      <th>4</th>\n",
       "      <td>2016</td>\n",
       "      <td>600.0</td>\n",
       "      <td>Central Bank of Kenya</td>\n",
       "      <td>Mulit-sector/discretionary</td>\n",
       "      <td>None Known</td>\n",
       "      <td>Kenya</td>\n",
       "      <td>0</td>\n",
       "      <td>1</td>\n",
       "      <td>0</td>\n",
       "    </tr>\n",
       "  </tbody>\n",
       "</table>\n",
       "</div>"
      ],
      "text/plain": [
       "   Year  Amount                 Borrower                      Sector  \\\n",
       "0  2011    50.0               Government                   Transport   \n",
       "1  2009  7000.0                Petrobras       Extraction, pipelines   \n",
       "2  2012    47.0               Government                  Government   \n",
       "3  2009   475.0  Electricite Du Cambodge                       Power   \n",
       "4  2016   600.0    Central Bank of Kenya  Mulit-sector/discretionary   \n",
       "\n",
       "  Territory_overlap   Country  Lender_Others  Lender_CDB  Lender_Eximbank  \n",
       "0        None Known    Angola              0           1                0  \n",
       "1        None Known    Brazil              0           1                0  \n",
       "2        None Known  Suriname              0           0                1  \n",
       "3        None Known  Cambodia              0           0                1  \n",
       "4        None Known     Kenya              0           1                0  "
      ]
     },
     "execution_count": 31,
     "metadata": {},
     "output_type": "execute_result"
    }
   ],
   "source": [
    "df.rename(columns= {'YEAR': 'Year','AMOUNT':'Amount', 'BORROWER':'Borrower','SECTOR':'Sector','SENSITIVE TERRITORY OVERLAP':'Territory_overlap'}, inplace = True)\n",
    "df.head()"
   ]
  },
  {
   "cell_type": "markdown",
   "metadata": {},
   "source": [
    "Now let us perform transformations on column 'Sector'."
   ]
  },
  {
   "cell_type": "code",
   "execution_count": 32,
   "metadata": {},
   "outputs": [
    {
     "data": {
      "text/plain": [
       "array(['Transport', 'Extraction, pipelines', 'Government', 'Power',\n",
       "       'Mulit-sector/discretionary', 'Telecom', 'Other construction',\n",
       "       'Agriculture, food', 'Manufacturing', 'fTransport'], dtype=object)"
      ]
     },
     "execution_count": 32,
     "metadata": {},
     "output_type": "execute_result"
    }
   ],
   "source": [
    "df['Sector'].unique()"
   ]
  },
  {
   "cell_type": "code",
   "execution_count": 33,
   "metadata": {},
   "outputs": [
    {
     "data": {
      "text/plain": [
       "Transport                     316\n",
       "Power                         203\n",
       "Government                    138\n",
       "Telecom                        63\n",
       "Extraction, pipelines          38\n",
       "Mulit-sector/discretionary     30\n",
       "Other construction             29\n",
       "Agriculture, food              27\n",
       "Manufacturing                  12\n",
       "fTransport                      1\n",
       "Name: Sector, dtype: int64"
      ]
     },
     "execution_count": 33,
     "metadata": {},
     "output_type": "execute_result"
    }
   ],
   "source": [
    "df['Sector'].value_counts()"
   ]
  },
  {
   "cell_type": "markdown",
   "metadata": {},
   "source": [
    "Here fTransport has only one value. So we can add that value to Transport.\n",
    "\n",
    "We also can rename Extraction, pipelines to 'extraction and pipelines' and 'Agriculture, food' to 'agriculture and food'.\n",
    "\n",
    "'Multi-sector/discretionary' can be renamed to 'Multisector and discretionary'."
   ]
  },
  {
   "cell_type": "code",
   "execution_count": 34,
   "metadata": {},
   "outputs": [],
   "source": [
    "df['Sector'] = df['Sector'].str.replace('fTransport','Transport')\n",
    "df['Sector'] = df['Sector'].str.replace('Extraction, pipelines','Extraction and Pipelines')\n",
    "df['Sector'] = df['Sector'].str.replace('Agriculture, food','Agricultiure and Food')\n",
    "df['Sector'] = df['Sector'].str.replace('/discretionary',' and discretionary')"
   ]
  },
  {
   "cell_type": "code",
   "execution_count": 35,
   "metadata": {},
   "outputs": [
    {
     "data": {
      "text/plain": [
       "Transport                         317\n",
       "Power                             203\n",
       "Government                        138\n",
       "Telecom                            63\n",
       "Extraction and Pipelines           38\n",
       "Mulit-sector and discretionary     30\n",
       "Other construction                 29\n",
       "Agricultiure and Food              27\n",
       "Manufacturing                      12\n",
       "Name: Sector, dtype: int64"
      ]
     },
     "execution_count": 35,
     "metadata": {},
     "output_type": "execute_result"
    }
   ],
   "source": [
    "df['Sector'].value_counts()"
   ]
  },
  {
   "cell_type": "markdown",
   "metadata": {},
   "source": [
    "Now the 'Sector' column is readable and can be plotted in graphs.\n",
    "\n",
    "Now let's see the 'Borrower' column."
   ]
  },
  {
   "cell_type": "code",
   "execution_count": 36,
   "metadata": {},
   "outputs": [
    {
     "data": {
      "text/plain": [
       "120"
      ]
     },
     "execution_count": 36,
     "metadata": {},
     "output_type": "execute_result"
    }
   ],
   "source": [
    "len(df['Borrower'].unique())"
   ]
  },
  {
   "cell_type": "code",
   "execution_count": 37,
   "metadata": {},
   "outputs": [
    {
     "data": {
      "text/plain": [
       "array(['Government', 'Petrobras', 'Electricite Du Cambodge',\n",
       "       'Central Bank of Kenya', 'Electicite du Laos (EdL)',\n",
       "       'Electicite du Laos (EdL) & Norinco (SOE) Joint Venture',\n",
       "       'National Irrigation Administration', 'Ministry of Cooperatives',\n",
       "       'Attarat Power Company (APCO)', 'NPPMCL',\n",
       "       'PT Huadian Bukit Asam Power',\n",
       "       'Bangladesh Chemical Industries Corporation',\n",
       "       'Bases Conversion Development Authority (BCDA)', 'Galaxy Backbone',\n",
       "       'KazMunayGas', 'Goverment', 'PT Intraco Penta and PowerChina',\n",
       "       'African Export-Import Bank', 'Central Bank of Egypt',\n",
       "       'African Export Import Bank', 'Sinohydro & CREC (75%)',\n",
       "       'Togo Telecom', 'Sumber Segara Primadaya',\n",
       "       'JAKS, China Power Engineering Consulting Group Co Ltd (CPECC)',\n",
       "       'Maldives Airports Company Limited', 'Shanghai Construction Group',\n",
       "       'Camtel', 'Corporacion Venezolana de Guayana (CVG)',\n",
       "       'Petroecuador', 'Go', 'Housing Development Corporation',\n",
       "       'Corporación Financiera de Desarrollo S.A. (Cofide)',\n",
       "       'Barqi Tojik',\n",
       "       'Malakoff Bhd and Shanghai Electric Group (SHANGHAI)',\n",
       "       'Vietnam Electricity (EVN)',\n",
       "       'Egyptian Electricity Transmission Company',\n",
       "       'Elektroprivreda Srbije (EPS)', 'Campost',\n",
       "       'Ethiopian Electric Power Corporation', 'Gazprom',\n",
       "       'Ministry of Railways', 'Dhaka Power Distribution Company',\n",
       "       'Samoa Airport Authority, Shanghai Construction',\n",
       "       'Société Nigérienne des Télécommunications or Nigerien Telecommunications Society (Sonitel)',\n",
       "       'Naftogaz of Ukraine', 'Uzbekneftegaz', 'Mongolia',\n",
       "       'Petróleos de Venezuela, S.A. (PDVSA)',\n",
       "       'Perusahaan Listrik Negara (PLN)', 'National Bank of Egypt',\n",
       "       'Banque Misr', 'Turkmengaz',\n",
       "       'PT Shenhua Guohua Java Bali Generation', 'ONEE', 'Azcuba',\n",
       "       'Zambia Electricity Supply Corporation Limited (ZESCO)',\n",
       "       'Pakistan National Highway Authority',\n",
       "       'Zambia Electricity Supply Corporation Limited',\n",
       "       'Ethiopia Sugar Corporation', 'Lao Sat-1',\n",
       "       'The Venezuelan Economic and Social Development Bank (BANDES) and Petróleos de Venezuela, S.A. (PDVSA)',\n",
       "       'Telecommunications Regulatory Commission',\n",
       "       'CNEEC and Scarborough Group International',\n",
       "       'Nepal Airline Corporation', 'Philippine National Oil Company',\n",
       "       'Eskom', 'Buenos Aires local government',\n",
       "       'Trade and Development Bank', \"N'Djamena Refinery Company\",\n",
       "       'Electicite du Laos (EdL) & China International Water & Electric Corp (CWE)',\n",
       "       'Electicite du Laos (EdL) & Sinohydro Joint Venture',\n",
       "       'Electicite du Laos (EdL) & China Southern Power Grid (SOE)',\n",
       "       'MoH, NHS, Shanghai Construction Group', 'NetOne', 'N-Sukala',\n",
       "       'Ceylon Electricity Board', 'Petrobras, Netherland sub-company',\n",
       "       'Rosneft', 'Kenya Electricity Generating Company (KenGen)',\n",
       "       'China Shenyang International Economic Corporation Limited (CSYIEC)/ Department of Commerce & Industry/National Fisheries Authority/ Madang Provincial Govt.',\n",
       "       'Indonesian State Electricity Company',\n",
       "       'Bangladesh-China Power Company Limited', 'Banque Ouest Africaine',\n",
       "       'Nishat Energy Limited (NEL)',\n",
       "       'Islamic Republic of Iran Railways (IRIR)',\n",
       "       'Barbados Tourism Investment (BTI)', 'ENDE', 'Transneft',\n",
       "       'Sberbank of Russia', 'Ethiopian Shipping Lines', 'Sicomine',\n",
       "       'Bangladesh Petroleum Corporation', 'Belarusbank', 'BICE',\n",
       "       'Development Bank of Central Africa',\n",
       "       'Development Bank of Ethiopia', 'Development Bank of Zambia',\n",
       "       'Ethiopia Development Bank', 'Millennium BIM',\n",
       "       'Zambia Cooperative Federation', 'Sonangol',\n",
       "       'Sonangol Finance Ltd.', 'Souapiti Hydropower SPV',\n",
       "       'State Electric Company', 'Government of Punjab', 'TelOne',\n",
       "       'Petrovietnam', 'Sindh Engro Coal Mining Company',\n",
       "       'Bank of Brazil', 'BNDES', 'PEMEX',\n",
       "       'Tunisian National Railways Company', 'Transnet',\n",
       "       'Nepal Electricity Authority', 'Elektroprivreda BiH',\n",
       "       'Bank for Investment and Development of Vietnam',\n",
       "       'Vnesheconombank',\n",
       "       \"China Power International Development Limited Company (possible supplier's credit？), Power Corporation (Vietnam National Coal-Natural Industries Corporation)\",\n",
       "       'Commercial Bank of Ethiopia', 'Africa Finance Corporation'],\n",
       "      dtype=object)"
      ]
     },
     "execution_count": 37,
     "metadata": {},
     "output_type": "execute_result"
    }
   ],
   "source": [
    "df['Borrower'].unique()"
   ]
  },
  {
   "cell_type": "code",
   "execution_count": 38,
   "metadata": {},
   "outputs": [
    {
     "data": {
      "text/plain": [
       "Government                                                                    677\n",
       "Perusahaan Listrik Negara (PLN)                                                12\n",
       "Petroecuador                                                                    7\n",
       "Petróleos de Venezuela, S.A. (PDVSA)                                            6\n",
       "Petrobras                                                                       5\n",
       "                                                                             ... \n",
       "State Electric Company                                                          1\n",
       "Bangladesh Petroleum Corporation                                                1\n",
       "Uzbekneftegaz                                                                   1\n",
       "Azcuba                                                                          1\n",
       "Electicite du Laos (EdL) & China International Water & Electric Corp (CWE)      1\n",
       "Name: Borrower, Length: 120, dtype: int64"
      ]
     },
     "execution_count": 38,
     "metadata": {},
     "output_type": "execute_result"
    }
   ],
   "source": [
    "df['Borrower'].value_counts()"
   ]
  },
  {
   "cell_type": "markdown",
   "metadata": {},
   "source": [
    "As we have seen 'Government has the highest value counts.\n",
    "\n",
    "But that is not all, in unique values there are some spelling mistakes like, Government is spelled as 'Goverment'.\n",
    "\n",
    "Then there are local governments like ' Madang Provincial Govt.', 'Buenos Aires local government','Government of Punjab'.\n",
    "\n",
    "Let us make a new column which will only tell us if the borrower is the government of the country or no.\n",
    "\n",
    "We will then drop the borrower column"
   ]
  },
  {
   "cell_type": "code",
   "execution_count": 39,
   "metadata": {},
   "outputs": [],
   "source": [
    "for i in range(len(df)):\n",
    "    if ('Government' in df.loc[i,'Borrower']) or ('Goverment' in df.loc[i,'Borrower']) or ('Govt.' in df.loc[i,'Borrower']):\n",
    "        df.loc[i,'Borrower_Gov'] = 1\n",
    "    else:\n",
    "        df.loc[i,'Borrower_Gov'] = 0"
   ]
  },
  {
   "cell_type": "code",
   "execution_count": 40,
   "metadata": {},
   "outputs": [
    {
     "data": {
      "text/plain": [
       "1.0    681\n",
       "0.0    176\n",
       "Name: Borrower_Gov, dtype: int64"
      ]
     },
     "execution_count": 40,
     "metadata": {},
     "output_type": "execute_result"
    }
   ],
   "source": [
    "df['Borrower_Gov'].value_counts()"
   ]
  },
  {
   "cell_type": "code",
   "execution_count": 41,
   "metadata": {},
   "outputs": [
    {
     "data": {
      "text/html": [
       "<div>\n",
       "<style scoped>\n",
       "    .dataframe tbody tr th:only-of-type {\n",
       "        vertical-align: middle;\n",
       "    }\n",
       "\n",
       "    .dataframe tbody tr th {\n",
       "        vertical-align: top;\n",
       "    }\n",
       "\n",
       "    .dataframe thead th {\n",
       "        text-align: right;\n",
       "    }\n",
       "</style>\n",
       "<table border=\"1\" class=\"dataframe\">\n",
       "  <thead>\n",
       "    <tr style=\"text-align: right;\">\n",
       "      <th></th>\n",
       "      <th>Year</th>\n",
       "      <th>Amount</th>\n",
       "      <th>Sector</th>\n",
       "      <th>Territory_overlap</th>\n",
       "      <th>Country</th>\n",
       "      <th>Lender_Others</th>\n",
       "      <th>Lender_CDB</th>\n",
       "      <th>Lender_Eximbank</th>\n",
       "      <th>Borrower_Gov</th>\n",
       "    </tr>\n",
       "  </thead>\n",
       "  <tbody>\n",
       "    <tr>\n",
       "      <th>0</th>\n",
       "      <td>2011</td>\n",
       "      <td>50.0</td>\n",
       "      <td>Transport</td>\n",
       "      <td>None Known</td>\n",
       "      <td>Angola</td>\n",
       "      <td>0</td>\n",
       "      <td>1</td>\n",
       "      <td>0</td>\n",
       "      <td>1.0</td>\n",
       "    </tr>\n",
       "    <tr>\n",
       "      <th>1</th>\n",
       "      <td>2009</td>\n",
       "      <td>7000.0</td>\n",
       "      <td>Extraction and Pipelines</td>\n",
       "      <td>None Known</td>\n",
       "      <td>Brazil</td>\n",
       "      <td>0</td>\n",
       "      <td>1</td>\n",
       "      <td>0</td>\n",
       "      <td>0.0</td>\n",
       "    </tr>\n",
       "    <tr>\n",
       "      <th>2</th>\n",
       "      <td>2012</td>\n",
       "      <td>47.0</td>\n",
       "      <td>Government</td>\n",
       "      <td>None Known</td>\n",
       "      <td>Suriname</td>\n",
       "      <td>0</td>\n",
       "      <td>0</td>\n",
       "      <td>1</td>\n",
       "      <td>1.0</td>\n",
       "    </tr>\n",
       "    <tr>\n",
       "      <th>3</th>\n",
       "      <td>2009</td>\n",
       "      <td>475.0</td>\n",
       "      <td>Power</td>\n",
       "      <td>None Known</td>\n",
       "      <td>Cambodia</td>\n",
       "      <td>0</td>\n",
       "      <td>0</td>\n",
       "      <td>1</td>\n",
       "      <td>0.0</td>\n",
       "    </tr>\n",
       "    <tr>\n",
       "      <th>4</th>\n",
       "      <td>2016</td>\n",
       "      <td>600.0</td>\n",
       "      <td>Mulit-sector and discretionary</td>\n",
       "      <td>None Known</td>\n",
       "      <td>Kenya</td>\n",
       "      <td>0</td>\n",
       "      <td>1</td>\n",
       "      <td>0</td>\n",
       "      <td>0.0</td>\n",
       "    </tr>\n",
       "  </tbody>\n",
       "</table>\n",
       "</div>"
      ],
      "text/plain": [
       "   Year  Amount                          Sector Territory_overlap   Country  \\\n",
       "0  2011    50.0                       Transport        None Known    Angola   \n",
       "1  2009  7000.0        Extraction and Pipelines        None Known    Brazil   \n",
       "2  2012    47.0                      Government        None Known  Suriname   \n",
       "3  2009   475.0                           Power        None Known  Cambodia   \n",
       "4  2016   600.0  Mulit-sector and discretionary        None Known     Kenya   \n",
       "\n",
       "   Lender_Others  Lender_CDB  Lender_Eximbank  Borrower_Gov  \n",
       "0              0           1                0           1.0  \n",
       "1              0           1                0           0.0  \n",
       "2              0           0                1           1.0  \n",
       "3              0           0                1           0.0  \n",
       "4              0           1                0           0.0  "
      ]
     },
     "execution_count": 41,
     "metadata": {},
     "output_type": "execute_result"
    }
   ],
   "source": [
    "df.drop('Borrower', inplace=True, axis=1)\n",
    "df.head()"
   ]
  },
  {
   "cell_type": "markdown",
   "metadata": {},
   "source": [
    "Now let's see the 'Territory_overlap' column. "
   ]
  },
  {
   "cell_type": "code",
   "execution_count": 42,
   "metadata": {},
   "outputs": [
    {
     "data": {
      "text/plain": [
       "array(['None Known',\n",
       "       \"Within Indigenous Peoples' Lands\\n Within Critical Habitats\",\n",
       "       \"Within Indigenous Peoples' Lands\",\n",
       "       \"Within Indigenous Peoples' Lands\\n Within National Protected Areas\",\n",
       "       'Within Critical Habitats\\n Within National Protected Areas',\n",
       "       'Within Critical Habitats',\n",
       "       \"Within Indigenous Peoples' Lands\\n Within Critical Habitats\\n Within National Protected Areas\",\n",
       "       'Within National Protected Areas'], dtype=object)"
      ]
     },
     "execution_count": 42,
     "metadata": {},
     "output_type": "execute_result"
    }
   ],
   "source": [
    "df['Territory_overlap'].unique()"
   ]
  },
  {
   "cell_type": "code",
   "execution_count": 43,
   "metadata": {},
   "outputs": [
    {
     "data": {
      "text/plain": [
       "8"
      ]
     },
     "execution_count": 43,
     "metadata": {},
     "output_type": "execute_result"
    }
   ],
   "source": [
    "len(df['Territory_overlap'].unique())"
   ]
  },
  {
   "cell_type": "code",
   "execution_count": 44,
   "metadata": {},
   "outputs": [
    {
     "data": {
      "text/plain": [
       "None Known                                                                                       524\n",
       "Within Critical Habitats                                                                         124\n",
       "Within Critical Habitats\\n Within National Protected Areas                                        57\n",
       "Within Indigenous Peoples' Lands\\n Within Critical Habitats                                       45\n",
       "Within Indigenous Peoples' Lands                                                                  41\n",
       "Within Indigenous Peoples' Lands\\n Within Critical Habitats\\n Within National Protected Areas     34\n",
       "Within National Protected Areas                                                                   19\n",
       "Within Indigenous Peoples' Lands\\n Within National Protected Areas                                13\n",
       "Name: Territory_overlap, dtype: int64"
      ]
     },
     "execution_count": 44,
     "metadata": {},
     "output_type": "execute_result"
    }
   ],
   "source": [
    "df['Territory_overlap'].value_counts()"
   ]
  },
  {
   "cell_type": "markdown",
   "metadata": {},
   "source": [
    "Looking at the unique values, there are 8 unique values.\n",
    "\n",
    "But the 8 values are just combination of 4 values which are none, critical, indegenous and protected."
   ]
  },
  {
   "cell_type": "code",
   "execution_count": 45,
   "metadata": {},
   "outputs": [],
   "source": [
    "list1 = ['None', 'Critical', 'Indigenous', 'National']\n",
    "\n",
    "for i in range(len(list1)):\n",
    "    for j in range(len(df)):\n",
    "        if list1[i] in df.loc[j, 'Territory_overlap']:\n",
    "            df.loc[j, 'ST_' + list1[i]] = 1\n",
    "        else:\n",
    "            df.loc[j, 'ST_' + list1[i]] = 0"
   ]
  },
  {
   "cell_type": "code",
   "execution_count": 46,
   "metadata": {},
   "outputs": [
    {
     "data": {
      "text/html": [
       "<div>\n",
       "<style scoped>\n",
       "    .dataframe tbody tr th:only-of-type {\n",
       "        vertical-align: middle;\n",
       "    }\n",
       "\n",
       "    .dataframe tbody tr th {\n",
       "        vertical-align: top;\n",
       "    }\n",
       "\n",
       "    .dataframe thead th {\n",
       "        text-align: right;\n",
       "    }\n",
       "</style>\n",
       "<table border=\"1\" class=\"dataframe\">\n",
       "  <thead>\n",
       "    <tr style=\"text-align: right;\">\n",
       "      <th></th>\n",
       "      <th>Year</th>\n",
       "      <th>Amount</th>\n",
       "      <th>Sector</th>\n",
       "      <th>Territory_overlap</th>\n",
       "      <th>Country</th>\n",
       "      <th>Lender_Others</th>\n",
       "      <th>Lender_CDB</th>\n",
       "      <th>Lender_Eximbank</th>\n",
       "      <th>Borrower_Gov</th>\n",
       "      <th>ST_None</th>\n",
       "      <th>ST_Critical</th>\n",
       "      <th>ST_Indigenous</th>\n",
       "      <th>ST_National</th>\n",
       "    </tr>\n",
       "  </thead>\n",
       "  <tbody>\n",
       "    <tr>\n",
       "      <th>0</th>\n",
       "      <td>2011</td>\n",
       "      <td>50.0</td>\n",
       "      <td>Transport</td>\n",
       "      <td>None Known</td>\n",
       "      <td>Angola</td>\n",
       "      <td>0</td>\n",
       "      <td>1</td>\n",
       "      <td>0</td>\n",
       "      <td>1.0</td>\n",
       "      <td>1.0</td>\n",
       "      <td>0.0</td>\n",
       "      <td>0.0</td>\n",
       "      <td>0.0</td>\n",
       "    </tr>\n",
       "    <tr>\n",
       "      <th>1</th>\n",
       "      <td>2009</td>\n",
       "      <td>7000.0</td>\n",
       "      <td>Extraction and Pipelines</td>\n",
       "      <td>None Known</td>\n",
       "      <td>Brazil</td>\n",
       "      <td>0</td>\n",
       "      <td>1</td>\n",
       "      <td>0</td>\n",
       "      <td>0.0</td>\n",
       "      <td>1.0</td>\n",
       "      <td>0.0</td>\n",
       "      <td>0.0</td>\n",
       "      <td>0.0</td>\n",
       "    </tr>\n",
       "    <tr>\n",
       "      <th>2</th>\n",
       "      <td>2012</td>\n",
       "      <td>47.0</td>\n",
       "      <td>Government</td>\n",
       "      <td>None Known</td>\n",
       "      <td>Suriname</td>\n",
       "      <td>0</td>\n",
       "      <td>0</td>\n",
       "      <td>1</td>\n",
       "      <td>1.0</td>\n",
       "      <td>1.0</td>\n",
       "      <td>0.0</td>\n",
       "      <td>0.0</td>\n",
       "      <td>0.0</td>\n",
       "    </tr>\n",
       "    <tr>\n",
       "      <th>3</th>\n",
       "      <td>2009</td>\n",
       "      <td>475.0</td>\n",
       "      <td>Power</td>\n",
       "      <td>None Known</td>\n",
       "      <td>Cambodia</td>\n",
       "      <td>0</td>\n",
       "      <td>0</td>\n",
       "      <td>1</td>\n",
       "      <td>0.0</td>\n",
       "      <td>1.0</td>\n",
       "      <td>0.0</td>\n",
       "      <td>0.0</td>\n",
       "      <td>0.0</td>\n",
       "    </tr>\n",
       "    <tr>\n",
       "      <th>4</th>\n",
       "      <td>2016</td>\n",
       "      <td>600.0</td>\n",
       "      <td>Mulit-sector and discretionary</td>\n",
       "      <td>None Known</td>\n",
       "      <td>Kenya</td>\n",
       "      <td>0</td>\n",
       "      <td>1</td>\n",
       "      <td>0</td>\n",
       "      <td>0.0</td>\n",
       "      <td>1.0</td>\n",
       "      <td>0.0</td>\n",
       "      <td>0.0</td>\n",
       "      <td>0.0</td>\n",
       "    </tr>\n",
       "  </tbody>\n",
       "</table>\n",
       "</div>"
      ],
      "text/plain": [
       "   Year  Amount                          Sector Territory_overlap   Country  \\\n",
       "0  2011    50.0                       Transport        None Known    Angola   \n",
       "1  2009  7000.0        Extraction and Pipelines        None Known    Brazil   \n",
       "2  2012    47.0                      Government        None Known  Suriname   \n",
       "3  2009   475.0                           Power        None Known  Cambodia   \n",
       "4  2016   600.0  Mulit-sector and discretionary        None Known     Kenya   \n",
       "\n",
       "   Lender_Others  Lender_CDB  Lender_Eximbank  Borrower_Gov  ST_None  \\\n",
       "0              0           1                0           1.0      1.0   \n",
       "1              0           1                0           0.0      1.0   \n",
       "2              0           0                1           1.0      1.0   \n",
       "3              0           0                1           0.0      1.0   \n",
       "4              0           1                0           0.0      1.0   \n",
       "\n",
       "   ST_Critical  ST_Indigenous  ST_National  \n",
       "0          0.0            0.0          0.0  \n",
       "1          0.0            0.0          0.0  \n",
       "2          0.0            0.0          0.0  \n",
       "3          0.0            0.0          0.0  \n",
       "4          0.0            0.0          0.0  "
      ]
     },
     "execution_count": 46,
     "metadata": {},
     "output_type": "execute_result"
    }
   ],
   "source": [
    "df.head()"
   ]
  },
  {
   "cell_type": "code",
   "execution_count": 47,
   "metadata": {},
   "outputs": [
    {
     "data": {
      "text/html": [
       "<div>\n",
       "<style scoped>\n",
       "    .dataframe tbody tr th:only-of-type {\n",
       "        vertical-align: middle;\n",
       "    }\n",
       "\n",
       "    .dataframe tbody tr th {\n",
       "        vertical-align: top;\n",
       "    }\n",
       "\n",
       "    .dataframe thead th {\n",
       "        text-align: right;\n",
       "    }\n",
       "</style>\n",
       "<table border=\"1\" class=\"dataframe\">\n",
       "  <thead>\n",
       "    <tr style=\"text-align: right;\">\n",
       "      <th></th>\n",
       "      <th>Year</th>\n",
       "      <th>Amount</th>\n",
       "      <th>Sector</th>\n",
       "      <th>Territory_overlap</th>\n",
       "      <th>Country</th>\n",
       "      <th>Lender_Others</th>\n",
       "      <th>Lender_CDB</th>\n",
       "      <th>Lender_Eximbank</th>\n",
       "      <th>Borrower_Gov</th>\n",
       "      <th>ST_None</th>\n",
       "      <th>ST_Critical</th>\n",
       "      <th>ST_Indigenous</th>\n",
       "      <th>ST_National</th>\n",
       "    </tr>\n",
       "  </thead>\n",
       "  <tbody>\n",
       "    <tr>\n",
       "      <th>38</th>\n",
       "      <td>2013</td>\n",
       "      <td>220.0</td>\n",
       "      <td>Transport</td>\n",
       "      <td>Within Indigenous Peoples' Lands\\n Within Crit...</td>\n",
       "      <td>Ethiopia</td>\n",
       "      <td>0</td>\n",
       "      <td>0</td>\n",
       "      <td>1</td>\n",
       "      <td>1.0</td>\n",
       "      <td>0.0</td>\n",
       "      <td>1.0</td>\n",
       "      <td>1.0</td>\n",
       "      <td>1.0</td>\n",
       "    </tr>\n",
       "    <tr>\n",
       "      <th>39</th>\n",
       "      <td>2013</td>\n",
       "      <td>981.0</td>\n",
       "      <td>Transport</td>\n",
       "      <td>Within Indigenous Peoples' Lands\\n Within Crit...</td>\n",
       "      <td>Ethiopia</td>\n",
       "      <td>0</td>\n",
       "      <td>0</td>\n",
       "      <td>1</td>\n",
       "      <td>1.0</td>\n",
       "      <td>0.0</td>\n",
       "      <td>1.0</td>\n",
       "      <td>1.0</td>\n",
       "      <td>1.0</td>\n",
       "    </tr>\n",
       "    <tr>\n",
       "      <th>40</th>\n",
       "      <td>2013</td>\n",
       "      <td>1300.0</td>\n",
       "      <td>Transport</td>\n",
       "      <td>Within Indigenous Peoples' Lands\\n Within Crit...</td>\n",
       "      <td>Ethiopia</td>\n",
       "      <td>0</td>\n",
       "      <td>0</td>\n",
       "      <td>1</td>\n",
       "      <td>1.0</td>\n",
       "      <td>0.0</td>\n",
       "      <td>1.0</td>\n",
       "      <td>1.0</td>\n",
       "      <td>1.0</td>\n",
       "    </tr>\n",
       "  </tbody>\n",
       "</table>\n",
       "</div>"
      ],
      "text/plain": [
       "    Year  Amount     Sector  \\\n",
       "38  2013   220.0  Transport   \n",
       "39  2013   981.0  Transport   \n",
       "40  2013  1300.0  Transport   \n",
       "\n",
       "                                    Territory_overlap   Country  \\\n",
       "38  Within Indigenous Peoples' Lands\\n Within Crit...  Ethiopia   \n",
       "39  Within Indigenous Peoples' Lands\\n Within Crit...  Ethiopia   \n",
       "40  Within Indigenous Peoples' Lands\\n Within Crit...  Ethiopia   \n",
       "\n",
       "    Lender_Others  Lender_CDB  Lender_Eximbank  Borrower_Gov  ST_None  \\\n",
       "38              0           0                1           1.0      0.0   \n",
       "39              0           0                1           1.0      0.0   \n",
       "40              0           0                1           1.0      0.0   \n",
       "\n",
       "    ST_Critical  ST_Indigenous  ST_National  \n",
       "38          1.0            1.0          1.0  \n",
       "39          1.0            1.0          1.0  \n",
       "40          1.0            1.0          1.0  "
      ]
     },
     "execution_count": 47,
     "metadata": {},
     "output_type": "execute_result"
    }
   ],
   "source": [
    "df[df['Territory_overlap'] == \"Within Indigenous Peoples' Lands\\n Within Critical Habitats\\n Within National Protected Areas\"].head(3)"
   ]
  },
  {
   "cell_type": "code",
   "execution_count": 48,
   "metadata": {},
   "outputs": [],
   "source": [
    "df.drop('Territory_overlap', axis = 1, inplace = True)"
   ]
  },
  {
   "cell_type": "code",
   "execution_count": 49,
   "metadata": {},
   "outputs": [
    {
     "data": {
      "text/html": [
       "<div>\n",
       "<style scoped>\n",
       "    .dataframe tbody tr th:only-of-type {\n",
       "        vertical-align: middle;\n",
       "    }\n",
       "\n",
       "    .dataframe tbody tr th {\n",
       "        vertical-align: top;\n",
       "    }\n",
       "\n",
       "    .dataframe thead th {\n",
       "        text-align: right;\n",
       "    }\n",
       "</style>\n",
       "<table border=\"1\" class=\"dataframe\">\n",
       "  <thead>\n",
       "    <tr style=\"text-align: right;\">\n",
       "      <th></th>\n",
       "      <th>Year</th>\n",
       "      <th>Amount</th>\n",
       "      <th>Sector</th>\n",
       "      <th>Country</th>\n",
       "      <th>Lender_Others</th>\n",
       "      <th>Lender_CDB</th>\n",
       "      <th>Lender_Eximbank</th>\n",
       "      <th>Borrower_Gov</th>\n",
       "      <th>ST_None</th>\n",
       "      <th>ST_Critical</th>\n",
       "      <th>ST_Indigenous</th>\n",
       "      <th>ST_National</th>\n",
       "    </tr>\n",
       "  </thead>\n",
       "  <tbody>\n",
       "    <tr>\n",
       "      <th>0</th>\n",
       "      <td>2011</td>\n",
       "      <td>50.0</td>\n",
       "      <td>Transport</td>\n",
       "      <td>Angola</td>\n",
       "      <td>0</td>\n",
       "      <td>1</td>\n",
       "      <td>0</td>\n",
       "      <td>1.0</td>\n",
       "      <td>1.0</td>\n",
       "      <td>0.0</td>\n",
       "      <td>0.0</td>\n",
       "      <td>0.0</td>\n",
       "    </tr>\n",
       "    <tr>\n",
       "      <th>1</th>\n",
       "      <td>2009</td>\n",
       "      <td>7000.0</td>\n",
       "      <td>Extraction and Pipelines</td>\n",
       "      <td>Brazil</td>\n",
       "      <td>0</td>\n",
       "      <td>1</td>\n",
       "      <td>0</td>\n",
       "      <td>0.0</td>\n",
       "      <td>1.0</td>\n",
       "      <td>0.0</td>\n",
       "      <td>0.0</td>\n",
       "      <td>0.0</td>\n",
       "    </tr>\n",
       "    <tr>\n",
       "      <th>2</th>\n",
       "      <td>2012</td>\n",
       "      <td>47.0</td>\n",
       "      <td>Government</td>\n",
       "      <td>Suriname</td>\n",
       "      <td>0</td>\n",
       "      <td>0</td>\n",
       "      <td>1</td>\n",
       "      <td>1.0</td>\n",
       "      <td>1.0</td>\n",
       "      <td>0.0</td>\n",
       "      <td>0.0</td>\n",
       "      <td>0.0</td>\n",
       "    </tr>\n",
       "    <tr>\n",
       "      <th>3</th>\n",
       "      <td>2009</td>\n",
       "      <td>475.0</td>\n",
       "      <td>Power</td>\n",
       "      <td>Cambodia</td>\n",
       "      <td>0</td>\n",
       "      <td>0</td>\n",
       "      <td>1</td>\n",
       "      <td>0.0</td>\n",
       "      <td>1.0</td>\n",
       "      <td>0.0</td>\n",
       "      <td>0.0</td>\n",
       "      <td>0.0</td>\n",
       "    </tr>\n",
       "    <tr>\n",
       "      <th>4</th>\n",
       "      <td>2016</td>\n",
       "      <td>600.0</td>\n",
       "      <td>Mulit-sector and discretionary</td>\n",
       "      <td>Kenya</td>\n",
       "      <td>0</td>\n",
       "      <td>1</td>\n",
       "      <td>0</td>\n",
       "      <td>0.0</td>\n",
       "      <td>1.0</td>\n",
       "      <td>0.0</td>\n",
       "      <td>0.0</td>\n",
       "      <td>0.0</td>\n",
       "    </tr>\n",
       "  </tbody>\n",
       "</table>\n",
       "</div>"
      ],
      "text/plain": [
       "   Year  Amount                          Sector   Country  Lender_Others  \\\n",
       "0  2011    50.0                       Transport    Angola              0   \n",
       "1  2009  7000.0        Extraction and Pipelines    Brazil              0   \n",
       "2  2012    47.0                      Government  Suriname              0   \n",
       "3  2009   475.0                           Power  Cambodia              0   \n",
       "4  2016   600.0  Mulit-sector and discretionary     Kenya              0   \n",
       "\n",
       "   Lender_CDB  Lender_Eximbank  Borrower_Gov  ST_None  ST_Critical  \\\n",
       "0           1                0           1.0      1.0          0.0   \n",
       "1           1                0           0.0      1.0          0.0   \n",
       "2           0                1           1.0      1.0          0.0   \n",
       "3           0                1           0.0      1.0          0.0   \n",
       "4           1                0           0.0      1.0          0.0   \n",
       "\n",
       "   ST_Indigenous  ST_National  \n",
       "0            0.0          0.0  \n",
       "1            0.0          0.0  \n",
       "2            0.0          0.0  \n",
       "3            0.0          0.0  \n",
       "4            0.0          0.0  "
      ]
     },
     "execution_count": 49,
     "metadata": {},
     "output_type": "execute_result"
    }
   ],
   "source": [
    "df.head()"
   ]
  },
  {
   "cell_type": "markdown",
   "metadata": {},
   "source": [
    "This completes our preprocessing.\n",
    "\n",
    "Next we have to do visualisations and draw inferences from our data."
   ]
  },
  {
   "cell_type": "markdown",
   "metadata": {},
   "source": [
    "### Visualizations"
   ]
  },
  {
   "cell_type": "markdown",
   "metadata": {},
   "source": [
    "First, let us plot a histogram for the amount of loans taken. "
   ]
  },
  {
   "cell_type": "code",
   "execution_count": 50,
   "metadata": {},
   "outputs": [
    {
     "data": {
      "text/plain": [
       "<AxesSubplot:xlabel='Amount', ylabel='Count'>"
      ]
     },
     "execution_count": 50,
     "metadata": {},
     "output_type": "execute_result"
    },
    {
     "data": {
      "image/png": "[encoded data removed]",
      "text/plain": [
       "<Figure size 1296x576 with 1 Axes>"
      ]
     },
     "metadata": {
      "needs_background": "light"
     },
     "output_type": "display_data"
    }
   ],
   "source": [
    "plt.figure(figsize=(18,8))\n",
    "sns.histplot(data=df, x = 'Amount', bins=100, color='Green')"
   ]
  },
  {
   "cell_type": "code",
   "execution_count": 51,
   "metadata": {},
   "outputs": [
    {
     "data": {
      "text/plain": [
       "<AxesSubplot:xlabel='Amount', ylabel='Count'>"
      ]
     },
     "execution_count": 51,
     "metadata": {},
     "output_type": "execute_result"
    },
    {
     "data": {
      "image/png": "[encoded data removed]",
      "text/plain": [
       "<Figure size 1296x576 with 1 Axes>"
      ]
     },
     "metadata": {
      "needs_background": "light"
     },
     "output_type": "display_data"
    }
   ],
   "source": [
    "plt.figure(figsize=(18,8))\n",
    "g = sns.histplot(data=df, x = 'Amount', bins=100, color='Green')\n",
    "g.set(xlim = (0, 2000))\n",
    "g"
   ]
  },
  {
   "cell_type": "markdown",
   "metadata": {},
   "source": [
    "Next, let us see how much amount of loans were taken in any year."
   ]
  },
  {
   "cell_type": "code",
   "execution_count": 52,
   "metadata": {},
   "outputs": [
    {
     "data": {
      "text/plain": [
       "<AxesSubplot:xlabel='Year', ylabel='count'>"
      ]
     },
     "execution_count": 52,
     "metadata": {},
     "output_type": "execute_result"
    },
    {
     "data": {
      "image/png": "[encoded data removed]",
      "text/plain": [
       "<Figure size 1152x576 with 1 Axes>"
      ]
     },
     "metadata": {
      "needs_background": "light"
     },
     "output_type": "display_data"
    }
   ],
   "source": [
    "plt.figure(figsize=(16,8))\n",
    "sns.countplot(x = 'Year', data=df, color = 'Green')"
   ]
  },
  {
   "cell_type": "markdown",
   "metadata": {},
   "source": [
    "As we can see the most number of loans were taken in 2016 and the least number of loans were taken in 2019.\n",
    "\n",
    "We can calculate loans given out per year by using groupby and taking sum as the aggregate function."
   ]
  },
  {
   "cell_type": "code",
   "execution_count": 53,
   "metadata": {},
   "outputs": [],
   "source": [
    "loan_per_year = df[['Year', 'Amount']].groupby('Year').sum()"
   ]
  },
  {
   "cell_type": "code",
   "execution_count": 54,
   "metadata": {},
   "outputs": [
    {
     "data": {
      "text/html": [
       "<div>\n",
       "<style scoped>\n",
       "    .dataframe tbody tr th:only-of-type {\n",
       "        vertical-align: middle;\n",
       "    }\n",
       "\n",
       "    .dataframe tbody tr th {\n",
       "        vertical-align: top;\n",
       "    }\n",
       "\n",
       "    .dataframe thead th {\n",
       "        text-align: right;\n",
       "    }\n",
       "</style>\n",
       "<table border=\"1\" class=\"dataframe\">\n",
       "  <thead>\n",
       "    <tr style=\"text-align: right;\">\n",
       "      <th></th>\n",
       "      <th>Amount</th>\n",
       "    </tr>\n",
       "    <tr>\n",
       "      <th>Year</th>\n",
       "      <th></th>\n",
       "    </tr>\n",
       "  </thead>\n",
       "  <tbody>\n",
       "    <tr>\n",
       "      <th>2008</th>\n",
       "      <td>7565.0</td>\n",
       "    </tr>\n",
       "    <tr>\n",
       "      <th>2009</th>\n",
       "      <td>62400.0</td>\n",
       "    </tr>\n",
       "    <tr>\n",
       "      <th>2010</th>\n",
       "      <td>41235.0</td>\n",
       "    </tr>\n",
       "    <tr>\n",
       "      <th>2011</th>\n",
       "      <td>33949.0</td>\n",
       "    </tr>\n",
       "    <tr>\n",
       "      <th>2012</th>\n",
       "      <td>34886.0</td>\n",
       "    </tr>\n",
       "    <tr>\n",
       "      <th>2013</th>\n",
       "      <td>41852.0</td>\n",
       "    </tr>\n",
       "    <tr>\n",
       "      <th>2014</th>\n",
       "      <td>48391.0</td>\n",
       "    </tr>\n",
       "    <tr>\n",
       "      <th>2015</th>\n",
       "      <td>51104.0</td>\n",
       "    </tr>\n",
       "    <tr>\n",
       "      <th>2016</th>\n",
       "      <td>75001.0</td>\n",
       "    </tr>\n",
       "    <tr>\n",
       "      <th>2017</th>\n",
       "      <td>49241.0</td>\n",
       "    </tr>\n",
       "    <tr>\n",
       "      <th>2018</th>\n",
       "      <td>12583.0</td>\n",
       "    </tr>\n",
       "    <tr>\n",
       "      <th>2019</th>\n",
       "      <td>3940.0</td>\n",
       "    </tr>\n",
       "  </tbody>\n",
       "</table>\n",
       "</div>"
      ],
      "text/plain": [
       "       Amount\n",
       "Year         \n",
       "2008   7565.0\n",
       "2009  62400.0\n",
       "2010  41235.0\n",
       "2011  33949.0\n",
       "2012  34886.0\n",
       "2013  41852.0\n",
       "2014  48391.0\n",
       "2015  51104.0\n",
       "2016  75001.0\n",
       "2017  49241.0\n",
       "2018  12583.0\n",
       "2019   3940.0"
      ]
     },
     "execution_count": 54,
     "metadata": {},
     "output_type": "execute_result"
    }
   ],
   "source": [
    "loan_per_year"
   ]
  },
  {
   "cell_type": "markdown",
   "metadata": {},
   "source": [
    "We can plot the data in loan_per_year dataset which we have created simply using .plot method taking the amount on the Y-Axis and sum on the corresponding year on the X-Axis."
   ]
  },
  {
   "cell_type": "code",
   "execution_count": 55,
   "metadata": {},
   "outputs": [
    {
     "data": {
      "text/plain": [
       "<AxesSubplot:xlabel='Year'>"
      ]
     },
     "execution_count": 55,
     "metadata": {},
     "output_type": "execute_result"
    },
    {
     "data": {
      "image/png": "[encoded data removed]",
      "text/plain": [
       "<Figure size 1152x576 with 1 Axes>"
      ]
     },
     "metadata": {
      "needs_background": "light"
     },
     "output_type": "display_data"
    }
   ],
   "source": [
    "loan_per_year.plot(kind='bar', color='Green', figsize = (16,8))"
   ]
  },
  {
   "cell_type": "markdown",
   "metadata": {},
   "source": [
    "The highest amount of loans were given in 2016 and the total of loans given that year exceeded 70 Billions.\n",
    "\n",
    "From the number of loans graph we plotted above, we saw in 2009 only around 70 loans were given out but the total amount of loans given out exceeded 60 Billions.\n",
    "\n",
    "\n",
    "Now that the visualisations for a year are done, let us do visualisations and draw inferences for countries.\n",
    "\n",
    "For that we will have to use groupby and group with respect to countries. Let us take 2 aggregate functions, one for the sum of the loan amount and count for the number of loans taken."
   ]
  },
  {
   "cell_type": "code",
   "execution_count": 56,
   "metadata": {},
   "outputs": [],
   "source": [
    "loan_country = df[['Country', 'Amount']].groupby('Country').agg({'Amount':'sum', 'Country':'count'})"
   ]
  },
  {
   "cell_type": "code",
   "execution_count": 57,
   "metadata": {},
   "outputs": [
    {
     "data": {
      "text/html": [
       "<div>\n",
       "<style scoped>\n",
       "    .dataframe tbody tr th:only-of-type {\n",
       "        vertical-align: middle;\n",
       "    }\n",
       "\n",
       "    .dataframe tbody tr th {\n",
       "        vertical-align: top;\n",
       "    }\n",
       "\n",
       "    .dataframe thead th {\n",
       "        text-align: right;\n",
       "    }\n",
       "</style>\n",
       "<table border=\"1\" class=\"dataframe\">\n",
       "  <thead>\n",
       "    <tr style=\"text-align: right;\">\n",
       "      <th></th>\n",
       "      <th>Amount</th>\n",
       "      <th>Country</th>\n",
       "    </tr>\n",
       "    <tr>\n",
       "      <th>Country</th>\n",
       "      <th></th>\n",
       "      <th></th>\n",
       "    </tr>\n",
       "  </thead>\n",
       "  <tbody>\n",
       "    <tr>\n",
       "      <th>Angola</th>\n",
       "      <td>29640.0</td>\n",
       "      <td>115</td>\n",
       "    </tr>\n",
       "    <tr>\n",
       "      <th>Antigua &amp; Barbuda</th>\n",
       "      <td>128.0</td>\n",
       "      <td>2</td>\n",
       "    </tr>\n",
       "    <tr>\n",
       "      <th>Argentina</th>\n",
       "      <td>17083.0</td>\n",
       "      <td>11</td>\n",
       "    </tr>\n",
       "    <tr>\n",
       "      <th>Bahamas</th>\n",
       "      <td>99.0</td>\n",
       "      <td>2</td>\n",
       "    </tr>\n",
       "    <tr>\n",
       "      <th>Bangladesh</th>\n",
       "      <td>11089.0</td>\n",
       "      <td>17</td>\n",
       "    </tr>\n",
       "  </tbody>\n",
       "</table>\n",
       "</div>"
      ],
      "text/plain": [
       "                    Amount  Country\n",
       "Country                            \n",
       "Angola             29640.0      115\n",
       "Antigua & Barbuda    128.0        2\n",
       "Argentina          17083.0       11\n",
       "Bahamas               99.0        2\n",
       "Bangladesh         11089.0       17"
      ]
     },
     "execution_count": 57,
     "metadata": {},
     "output_type": "execute_result"
    }
   ],
   "source": [
    "loan_country.head()"
   ]
  },
  {
   "cell_type": "markdown",
   "metadata": {},
   "source": [
    "There are 2 columns named country, one is the index column and the other column named 'Country' tells us the count for the number of loans taken.\n",
    "\n",
    "Let us rename the column for counts."
   ]
  },
  {
   "cell_type": "code",
   "execution_count": 58,
   "metadata": {},
   "outputs": [],
   "source": [
    "loan_country.rename(columns = {'Country': 'Count'}, inplace = True)"
   ]
  },
  {
   "cell_type": "code",
   "execution_count": 59,
   "metadata": {},
   "outputs": [
    {
     "data": {
      "text/html": [
       "<div>\n",
       "<style scoped>\n",
       "    .dataframe tbody tr th:only-of-type {\n",
       "        vertical-align: middle;\n",
       "    }\n",
       "\n",
       "    .dataframe tbody tr th {\n",
       "        vertical-align: top;\n",
       "    }\n",
       "\n",
       "    .dataframe thead th {\n",
       "        text-align: right;\n",
       "    }\n",
       "</style>\n",
       "<table border=\"1\" class=\"dataframe\">\n",
       "  <thead>\n",
       "    <tr style=\"text-align: right;\">\n",
       "      <th></th>\n",
       "      <th>Amount</th>\n",
       "      <th>Count</th>\n",
       "    </tr>\n",
       "    <tr>\n",
       "      <th>Country</th>\n",
       "      <th></th>\n",
       "      <th></th>\n",
       "    </tr>\n",
       "  </thead>\n",
       "  <tbody>\n",
       "    <tr>\n",
       "      <th>Angola</th>\n",
       "      <td>29640.0</td>\n",
       "      <td>115</td>\n",
       "    </tr>\n",
       "    <tr>\n",
       "      <th>Ethiopia</th>\n",
       "      <td>8291.0</td>\n",
       "      <td>34</td>\n",
       "    </tr>\n",
       "    <tr>\n",
       "      <th>Cambodia</th>\n",
       "      <td>5008.0</td>\n",
       "      <td>31</td>\n",
       "    </tr>\n",
       "    <tr>\n",
       "      <th>Sri Lanka</th>\n",
       "      <td>8709.0</td>\n",
       "      <td>30</td>\n",
       "    </tr>\n",
       "    <tr>\n",
       "      <th>Indonesia</th>\n",
       "      <td>14499.0</td>\n",
       "      <td>30</td>\n",
       "    </tr>\n",
       "  </tbody>\n",
       "</table>\n",
       "</div>"
      ],
      "text/plain": [
       "            Amount  Count\n",
       "Country                  \n",
       "Angola     29640.0    115\n",
       "Ethiopia    8291.0     34\n",
       "Cambodia    5008.0     31\n",
       "Sri Lanka   8709.0     30\n",
       "Indonesia  14499.0     30"
      ]
     },
     "execution_count": 59,
     "metadata": {},
     "output_type": "execute_result"
    }
   ],
   "source": [
    "loan_country.sort_values('Count', ascending = False).head(5)"
   ]
  },
  {
   "cell_type": "markdown",
   "metadata": {},
   "source": [
    "When we sort the values in loan_country dataset according to the count, we can see that Angola has taken the highest number of loans which is 115, followed by Ethiopia which has taken 34."
   ]
  },
  {
   "cell_type": "code",
   "execution_count": 60,
   "metadata": {},
   "outputs": [
    {
     "data": {
      "text/html": [
       "<div>\n",
       "<style scoped>\n",
       "    .dataframe tbody tr th:only-of-type {\n",
       "        vertical-align: middle;\n",
       "    }\n",
       "\n",
       "    .dataframe tbody tr th {\n",
       "        vertical-align: top;\n",
       "    }\n",
       "\n",
       "    .dataframe thead th {\n",
       "        text-align: right;\n",
       "    }\n",
       "</style>\n",
       "<table border=\"1\" class=\"dataframe\">\n",
       "  <thead>\n",
       "    <tr style=\"text-align: right;\">\n",
       "      <th></th>\n",
       "      <th>Amount</th>\n",
       "      <th>Count</th>\n",
       "    </tr>\n",
       "    <tr>\n",
       "      <th>Country</th>\n",
       "      <th></th>\n",
       "      <th></th>\n",
       "    </tr>\n",
       "  </thead>\n",
       "  <tbody>\n",
       "    <tr>\n",
       "      <th>Venezuela</th>\n",
       "      <td>57691.0</td>\n",
       "      <td>16</td>\n",
       "    </tr>\n",
       "    <tr>\n",
       "      <th>Pakistan</th>\n",
       "      <td>39853.0</td>\n",
       "      <td>23</td>\n",
       "    </tr>\n",
       "    <tr>\n",
       "      <th>Russian Federation</th>\n",
       "      <td>37045.0</td>\n",
       "      <td>8</td>\n",
       "    </tr>\n",
       "    <tr>\n",
       "      <th>Angola</th>\n",
       "      <td>29640.0</td>\n",
       "      <td>115</td>\n",
       "    </tr>\n",
       "    <tr>\n",
       "      <th>Brazil</th>\n",
       "      <td>28156.0</td>\n",
       "      <td>10</td>\n",
       "    </tr>\n",
       "  </tbody>\n",
       "</table>\n",
       "</div>"
      ],
      "text/plain": [
       "                     Amount  Count\n",
       "Country                           \n",
       "Venezuela           57691.0     16\n",
       "Pakistan            39853.0     23\n",
       "Russian Federation  37045.0      8\n",
       "Angola              29640.0    115\n",
       "Brazil              28156.0     10"
      ]
     },
     "execution_count": 60,
     "metadata": {},
     "output_type": "execute_result"
    }
   ],
   "source": [
    "loan_country.sort_values('Amount', ascending = False).head(5)"
   ]
  },
  {
   "cell_type": "markdown",
   "metadata": {},
   "source": [
    "Let us plot graphs for both the count of loans and for the sum of loans taken."
   ]
  },
  {
   "cell_type": "code",
   "execution_count": 61,
   "metadata": {},
   "outputs": [
    {
     "data": {
      "text/plain": [
       "<AxesSubplot:ylabel='Country'>"
      ]
     },
     "execution_count": 61,
     "metadata": {},
     "output_type": "execute_result"
    },
    {
     "data": {
      "image/png": "[encoded data removed]",
      "text/plain": [
       "<Figure size 1152x1728 with 1 Axes>"
      ]
     },
     "metadata": {
      "needs_background": "light"
     },
     "output_type": "display_data"
    }
   ],
   "source": [
    "loan_country.sort_values('Count').plot(y = 'Count',kind = 'barh', figsize = (16,24), color = 'Green')"
   ]
  },
  {
   "cell_type": "code",
   "execution_count": 62,
   "metadata": {},
   "outputs": [
    {
     "data": {
      "text/plain": [
       "<AxesSubplot:ylabel='Country'>"
      ]
     },
     "execution_count": 62,
     "metadata": {},
     "output_type": "execute_result"
    },
    {
     "data": {
      "image/png": "[encoded data removed]",
      "text/plain": [
       "<Figure size 1152x1728 with 1 Axes>"
      ]
     },
     "metadata": {
      "needs_background": "light"
     },
     "output_type": "display_data"
    }
   ],
   "source": [
    "loan_country.sort_values('Amount', ascending = True).plot(y = 'Amount', kind = 'barh', figsize = (16,24), color = 'Green')"
   ]
  },
  {
   "cell_type": "markdown",
   "metadata": {},
   "source": [
    "Next we have to draw inferences based on the 'Sector' column.\n",
    "Let us first draw a pie chart to represent the loan percent according to sectors."
   ]
  },
  {
   "cell_type": "code",
   "execution_count": 63,
   "metadata": {},
   "outputs": [
    {
     "data": {
      "image/png": "[encoded data removed]",
      "text/plain": [
       "<Figure size 576x576 with 1 Axes>"
      ]
     },
     "metadata": {},
     "output_type": "display_data"
    }
   ],
   "source": [
    "a = df['Sector'].value_counts()\n",
    "plt.figure(figsize = (8,8))\n",
    "plt.pie(x = a, data = df, labels= a.index,autopct='%.0f%%')\n",
    "plt.show()"
   ]
  },
  {
   "cell_type": "markdown",
   "metadata": {},
   "source": [
    "From the pie chart, we can see that the highest number of loans were taken for Transport sector that is 37% of the total loans.\n",
    "\n",
    "Followed by power sector, and Government Sector which have a significant contribution of 24% and 16% respectively.\n",
    "\n",
    "Other sector sectors have taken small number of loans as compared to top 3."
   ]
  },
  {
   "cell_type": "code",
   "execution_count": 64,
   "metadata": {},
   "outputs": [],
   "source": [
    "loan_per_sector = df[[\"Sector\", \"Amount\"]].groupby(\"Sector\").agg({'Amount':'sum', 'Sector':'count'})"
   ]
  },
  {
   "cell_type": "code",
   "execution_count": 65,
   "metadata": {},
   "outputs": [
    {
     "data": {
      "text/html": [
       "<div>\n",
       "<style scoped>\n",
       "    .dataframe tbody tr th:only-of-type {\n",
       "        vertical-align: middle;\n",
       "    }\n",
       "\n",
       "    .dataframe tbody tr th {\n",
       "        vertical-align: top;\n",
       "    }\n",
       "\n",
       "    .dataframe thead th {\n",
       "        text-align: right;\n",
       "    }\n",
       "</style>\n",
       "<table border=\"1\" class=\"dataframe\">\n",
       "  <thead>\n",
       "    <tr style=\"text-align: right;\">\n",
       "      <th></th>\n",
       "      <th>Amount</th>\n",
       "      <th>Sector</th>\n",
       "    </tr>\n",
       "    <tr>\n",
       "      <th>Sector</th>\n",
       "      <th></th>\n",
       "      <th></th>\n",
       "    </tr>\n",
       "  </thead>\n",
       "  <tbody>\n",
       "    <tr>\n",
       "      <th>Agricultiure and Food</th>\n",
       "      <td>7526.0</td>\n",
       "      <td>27</td>\n",
       "    </tr>\n",
       "    <tr>\n",
       "      <th>Extraction and Pipelines</th>\n",
       "      <td>114187.0</td>\n",
       "      <td>38</td>\n",
       "    </tr>\n",
       "    <tr>\n",
       "      <th>Government</th>\n",
       "      <td>23120.0</td>\n",
       "      <td>138</td>\n",
       "    </tr>\n",
       "    <tr>\n",
       "      <th>Manufacturing</th>\n",
       "      <td>8747.0</td>\n",
       "      <td>12</td>\n",
       "    </tr>\n",
       "    <tr>\n",
       "      <th>Mulit-sector and discretionary</th>\n",
       "      <td>59156.0</td>\n",
       "      <td>30</td>\n",
       "    </tr>\n",
       "    <tr>\n",
       "      <th>Other construction</th>\n",
       "      <td>22613.0</td>\n",
       "      <td>29</td>\n",
       "    </tr>\n",
       "    <tr>\n",
       "      <th>Power</th>\n",
       "      <td>98534.0</td>\n",
       "      <td>203</td>\n",
       "    </tr>\n",
       "    <tr>\n",
       "      <th>Telecom</th>\n",
       "      <td>8061.0</td>\n",
       "      <td>63</td>\n",
       "    </tr>\n",
       "    <tr>\n",
       "      <th>Transport</th>\n",
       "      <td>120203.0</td>\n",
       "      <td>317</td>\n",
       "    </tr>\n",
       "  </tbody>\n",
       "</table>\n",
       "</div>"
      ],
      "text/plain": [
       "                                  Amount  Sector\n",
       "Sector                                          \n",
       "Agricultiure and Food             7526.0      27\n",
       "Extraction and Pipelines        114187.0      38\n",
       "Government                       23120.0     138\n",
       "Manufacturing                     8747.0      12\n",
       "Mulit-sector and discretionary   59156.0      30\n",
       "Other construction               22613.0      29\n",
       "Power                            98534.0     203\n",
       "Telecom                           8061.0      63\n",
       "Transport                       120203.0     317"
      ]
     },
     "execution_count": 65,
     "metadata": {},
     "output_type": "execute_result"
    }
   ],
   "source": [
    "loan_per_sector"
   ]
  },
  {
   "cell_type": "markdown",
   "metadata": {},
   "source": [
    "There are 2 columns named country, one is the index column and the other column named 'Sector' tells us the count for the number of loans taken.\n",
    "\n",
    "Let us rename the column for counts."
   ]
  },
  {
   "cell_type": "code",
   "execution_count": 66,
   "metadata": {},
   "outputs": [],
   "source": [
    "loan_per_sector.rename(columns = {'Sector':'Count'}, inplace = True)"
   ]
  },
  {
   "cell_type": "code",
   "execution_count": 67,
   "metadata": {},
   "outputs": [
    {
     "data": {
      "text/html": [
       "<div>\n",
       "<style scoped>\n",
       "    .dataframe tbody tr th:only-of-type {\n",
       "        vertical-align: middle;\n",
       "    }\n",
       "\n",
       "    .dataframe tbody tr th {\n",
       "        vertical-align: top;\n",
       "    }\n",
       "\n",
       "    .dataframe thead th {\n",
       "        text-align: right;\n",
       "    }\n",
       "</style>\n",
       "<table border=\"1\" class=\"dataframe\">\n",
       "  <thead>\n",
       "    <tr style=\"text-align: right;\">\n",
       "      <th></th>\n",
       "      <th>Amount</th>\n",
       "      <th>Count</th>\n",
       "    </tr>\n",
       "    <tr>\n",
       "      <th>Sector</th>\n",
       "      <th></th>\n",
       "      <th></th>\n",
       "    </tr>\n",
       "  </thead>\n",
       "  <tbody>\n",
       "    <tr>\n",
       "      <th>Transport</th>\n",
       "      <td>120203.0</td>\n",
       "      <td>317</td>\n",
       "    </tr>\n",
       "    <tr>\n",
       "      <th>Power</th>\n",
       "      <td>98534.0</td>\n",
       "      <td>203</td>\n",
       "    </tr>\n",
       "    <tr>\n",
       "      <th>Government</th>\n",
       "      <td>23120.0</td>\n",
       "      <td>138</td>\n",
       "    </tr>\n",
       "    <tr>\n",
       "      <th>Telecom</th>\n",
       "      <td>8061.0</td>\n",
       "      <td>63</td>\n",
       "    </tr>\n",
       "    <tr>\n",
       "      <th>Extraction and Pipelines</th>\n",
       "      <td>114187.0</td>\n",
       "      <td>38</td>\n",
       "    </tr>\n",
       "    <tr>\n",
       "      <th>Mulit-sector and discretionary</th>\n",
       "      <td>59156.0</td>\n",
       "      <td>30</td>\n",
       "    </tr>\n",
       "    <tr>\n",
       "      <th>Other construction</th>\n",
       "      <td>22613.0</td>\n",
       "      <td>29</td>\n",
       "    </tr>\n",
       "    <tr>\n",
       "      <th>Agricultiure and Food</th>\n",
       "      <td>7526.0</td>\n",
       "      <td>27</td>\n",
       "    </tr>\n",
       "    <tr>\n",
       "      <th>Manufacturing</th>\n",
       "      <td>8747.0</td>\n",
       "      <td>12</td>\n",
       "    </tr>\n",
       "  </tbody>\n",
       "</table>\n",
       "</div>"
      ],
      "text/plain": [
       "                                  Amount  Count\n",
       "Sector                                         \n",
       "Transport                       120203.0    317\n",
       "Power                            98534.0    203\n",
       "Government                       23120.0    138\n",
       "Telecom                           8061.0     63\n",
       "Extraction and Pipelines        114187.0     38\n",
       "Mulit-sector and discretionary   59156.0     30\n",
       "Other construction               22613.0     29\n",
       "Agricultiure and Food             7526.0     27\n",
       "Manufacturing                     8747.0     12"
      ]
     },
     "execution_count": 67,
     "metadata": {},
     "output_type": "execute_result"
    }
   ],
   "source": [
    "loan_per_sector.sort_values('Count', ascending = False)"
   ]
  },
  {
   "cell_type": "code",
   "execution_count": 68,
   "metadata": {},
   "outputs": [
    {
     "data": {
      "text/html": [
       "<div>\n",
       "<style scoped>\n",
       "    .dataframe tbody tr th:only-of-type {\n",
       "        vertical-align: middle;\n",
       "    }\n",
       "\n",
       "    .dataframe tbody tr th {\n",
       "        vertical-align: top;\n",
       "    }\n",
       "\n",
       "    .dataframe thead th {\n",
       "        text-align: right;\n",
       "    }\n",
       "</style>\n",
       "<table border=\"1\" class=\"dataframe\">\n",
       "  <thead>\n",
       "    <tr style=\"text-align: right;\">\n",
       "      <th></th>\n",
       "      <th>Amount</th>\n",
       "      <th>Count</th>\n",
       "    </tr>\n",
       "    <tr>\n",
       "      <th>Sector</th>\n",
       "      <th></th>\n",
       "      <th></th>\n",
       "    </tr>\n",
       "  </thead>\n",
       "  <tbody>\n",
       "    <tr>\n",
       "      <th>Transport</th>\n",
       "      <td>120203.0</td>\n",
       "      <td>317</td>\n",
       "    </tr>\n",
       "    <tr>\n",
       "      <th>Extraction and Pipelines</th>\n",
       "      <td>114187.0</td>\n",
       "      <td>38</td>\n",
       "    </tr>\n",
       "    <tr>\n",
       "      <th>Power</th>\n",
       "      <td>98534.0</td>\n",
       "      <td>203</td>\n",
       "    </tr>\n",
       "    <tr>\n",
       "      <th>Mulit-sector and discretionary</th>\n",
       "      <td>59156.0</td>\n",
       "      <td>30</td>\n",
       "    </tr>\n",
       "    <tr>\n",
       "      <th>Government</th>\n",
       "      <td>23120.0</td>\n",
       "      <td>138</td>\n",
       "    </tr>\n",
       "    <tr>\n",
       "      <th>Other construction</th>\n",
       "      <td>22613.0</td>\n",
       "      <td>29</td>\n",
       "    </tr>\n",
       "    <tr>\n",
       "      <th>Manufacturing</th>\n",
       "      <td>8747.0</td>\n",
       "      <td>12</td>\n",
       "    </tr>\n",
       "    <tr>\n",
       "      <th>Telecom</th>\n",
       "      <td>8061.0</td>\n",
       "      <td>63</td>\n",
       "    </tr>\n",
       "    <tr>\n",
       "      <th>Agricultiure and Food</th>\n",
       "      <td>7526.0</td>\n",
       "      <td>27</td>\n",
       "    </tr>\n",
       "  </tbody>\n",
       "</table>\n",
       "</div>"
      ],
      "text/plain": [
       "                                  Amount  Count\n",
       "Sector                                         \n",
       "Transport                       120203.0    317\n",
       "Extraction and Pipelines        114187.0     38\n",
       "Power                            98534.0    203\n",
       "Mulit-sector and discretionary   59156.0     30\n",
       "Government                       23120.0    138\n",
       "Other construction               22613.0     29\n",
       "Manufacturing                     8747.0     12\n",
       "Telecom                           8061.0     63\n",
       "Agricultiure and Food             7526.0     27"
      ]
     },
     "execution_count": 68,
     "metadata": {},
     "output_type": "execute_result"
    }
   ],
   "source": [
    "loan_per_sector.sort_values('Amount', ascending = False)"
   ]
  },
  {
   "cell_type": "markdown",
   "metadata": {},
   "source": [
    "Let us visualise this data by plotting it."
   ]
  },
  {
   "cell_type": "code",
   "execution_count": 69,
   "metadata": {},
   "outputs": [
    {
     "data": {
      "text/plain": [
       "<AxesSubplot:ylabel='Sector'>"
      ]
     },
     "execution_count": 69,
     "metadata": {},
     "output_type": "execute_result"
    },
    {
     "data": {
      "image/png": "[encoded data removed]",
      "text/plain": [
       "<Figure size 1152x576 with 1 Axes>"
      ]
     },
     "metadata": {
      "needs_background": "light"
     },
     "output_type": "display_data"
    }
   ],
   "source": [
    "loan_per_sector.sort_values('Count', ascending = True).plot(y = 'Count',kind='barh', color = 'Green', figsize = (16,8))"
   ]
  },
  {
   "cell_type": "code",
   "execution_count": 70,
   "metadata": {},
   "outputs": [
    {
     "data": {
      "text/plain": [
       "<AxesSubplot:ylabel='Sector'>"
      ]
     },
     "execution_count": 70,
     "metadata": {},
     "output_type": "execute_result"
    },
    {
     "data": {
      "image/png": "[encoded data removed]",
      "text/plain": [
       "<Figure size 1152x576 with 1 Axes>"
      ]
     },
     "metadata": {
      "needs_background": "light"
     },
     "output_type": "display_data"
    }
   ],
   "source": [
    "loan_per_sector.sort_values('Amount', ascending = True).plot(y = 'Amount',kind='barh', color = 'Green', figsize = (16,8))"
   ]
  },
  {
   "cell_type": "code",
   "execution_count": 71,
   "metadata": {},
   "outputs": [
    {
     "data": {
      "text/html": [
       "<div>\n",
       "<style scoped>\n",
       "    .dataframe tbody tr th:only-of-type {\n",
       "        vertical-align: middle;\n",
       "    }\n",
       "\n",
       "    .dataframe tbody tr th {\n",
       "        vertical-align: top;\n",
       "    }\n",
       "\n",
       "    .dataframe thead th {\n",
       "        text-align: right;\n",
       "    }\n",
       "</style>\n",
       "<table border=\"1\" class=\"dataframe\">\n",
       "  <thead>\n",
       "    <tr style=\"text-align: right;\">\n",
       "      <th></th>\n",
       "      <th></th>\n",
       "      <th>Amount</th>\n",
       "    </tr>\n",
       "    <tr>\n",
       "      <th>Country</th>\n",
       "      <th>Sector</th>\n",
       "      <th></th>\n",
       "    </tr>\n",
       "  </thead>\n",
       "  <tbody>\n",
       "    <tr>\n",
       "      <th rowspan=\"5\" valign=\"top\">Angola</th>\n",
       "      <th>Agricultiure and Food</th>\n",
       "      <td>893.0</td>\n",
       "    </tr>\n",
       "    <tr>\n",
       "      <th>Extraction and Pipelines</th>\n",
       "      <td>17500.0</td>\n",
       "    </tr>\n",
       "    <tr>\n",
       "      <th>Government</th>\n",
       "      <td>1311.0</td>\n",
       "    </tr>\n",
       "    <tr>\n",
       "      <th>Manufacturing</th>\n",
       "      <td>83.0</td>\n",
       "    </tr>\n",
       "    <tr>\n",
       "      <th>Mulit-sector and discretionary</th>\n",
       "      <td>2200.0</td>\n",
       "    </tr>\n",
       "    <tr>\n",
       "      <th>...</th>\n",
       "      <th>...</th>\n",
       "      <td>...</td>\n",
       "    </tr>\n",
       "    <tr>\n",
       "      <th>Zambia</th>\n",
       "      <th>Transport</th>\n",
       "      <td>2476.0</td>\n",
       "    </tr>\n",
       "    <tr>\n",
       "      <th rowspan=\"4\" valign=\"top\">Zimbabwe</th>\n",
       "      <th>Government</th>\n",
       "      <td>341.0</td>\n",
       "    </tr>\n",
       "    <tr>\n",
       "      <th>Power</th>\n",
       "      <td>1318.0</td>\n",
       "    </tr>\n",
       "    <tr>\n",
       "      <th>Telecom</th>\n",
       "      <td>437.0</td>\n",
       "    </tr>\n",
       "    <tr>\n",
       "      <th>Transport</th>\n",
       "      <td>316.0</td>\n",
       "    </tr>\n",
       "  </tbody>\n",
       "</table>\n",
       "<p>273 rows × 1 columns</p>\n",
       "</div>"
      ],
      "text/plain": [
       "                                          Amount\n",
       "Country  Sector                                 \n",
       "Angola   Agricultiure and Food             893.0\n",
       "         Extraction and Pipelines        17500.0\n",
       "         Government                       1311.0\n",
       "         Manufacturing                      83.0\n",
       "         Mulit-sector and discretionary   2200.0\n",
       "...                                          ...\n",
       "Zambia   Transport                        2476.0\n",
       "Zimbabwe Government                        341.0\n",
       "         Power                            1318.0\n",
       "         Telecom                           437.0\n",
       "         Transport                         316.0\n",
       "\n",
       "[273 rows x 1 columns]"
      ]
     },
     "execution_count": 71,
     "metadata": {},
     "output_type": "execute_result"
    }
   ],
   "source": [
    "loan_country_sector = df[['Country','Sector','Amount']].groupby(['Country', 'Sector']).sum('Amount')\n",
    "\n",
    "loan_country_sector"
   ]
  },
  {
   "cell_type": "code",
   "execution_count": 72,
   "metadata": {},
   "outputs": [
    {
     "data": {
      "text/html": [
       "<div>\n",
       "<style scoped>\n",
       "    .dataframe tbody tr th:only-of-type {\n",
       "        vertical-align: middle;\n",
       "    }\n",
       "\n",
       "    .dataframe tbody tr th {\n",
       "        vertical-align: top;\n",
       "    }\n",
       "\n",
       "    .dataframe thead th {\n",
       "        text-align: right;\n",
       "    }\n",
       "</style>\n",
       "<table border=\"1\" class=\"dataframe\">\n",
       "  <thead>\n",
       "    <tr style=\"text-align: right;\">\n",
       "      <th></th>\n",
       "      <th></th>\n",
       "      <th>Amount</th>\n",
       "    </tr>\n",
       "    <tr>\n",
       "      <th>Country</th>\n",
       "      <th>Sector</th>\n",
       "      <th></th>\n",
       "    </tr>\n",
       "  </thead>\n",
       "  <tbody>\n",
       "    <tr>\n",
       "      <th>Venezuela</th>\n",
       "      <th>Mulit-sector and discretionary</th>\n",
       "      <td>40500.0</td>\n",
       "    </tr>\n",
       "    <tr>\n",
       "      <th>Russian Federation</th>\n",
       "      <th>Extraction and Pipelines</th>\n",
       "      <td>27500.0</td>\n",
       "    </tr>\n",
       "    <tr>\n",
       "      <th>Brazil</th>\n",
       "      <th>Extraction and Pipelines</th>\n",
       "      <td>25000.0</td>\n",
       "    </tr>\n",
       "    <tr>\n",
       "      <th>Pakistan</th>\n",
       "      <th>Power</th>\n",
       "      <td>18406.0</td>\n",
       "    </tr>\n",
       "    <tr>\n",
       "      <th>Angola</th>\n",
       "      <th>Extraction and Pipelines</th>\n",
       "      <td>17500.0</td>\n",
       "    </tr>\n",
       "    <tr>\n",
       "      <th>Pakistan</th>\n",
       "      <th>Transport</th>\n",
       "      <td>16803.0</td>\n",
       "    </tr>\n",
       "    <tr>\n",
       "      <th>Venezuela</th>\n",
       "      <th>Extraction and Pipelines</th>\n",
       "      <td>15200.0</td>\n",
       "    </tr>\n",
       "    <tr>\n",
       "      <th>Iran</th>\n",
       "      <th>Other construction</th>\n",
       "      <td>15000.0</td>\n",
       "    </tr>\n",
       "    <tr>\n",
       "      <th>Turkmenistan</th>\n",
       "      <th>Extraction and Pipelines</th>\n",
       "      <td>14200.0</td>\n",
       "    </tr>\n",
       "    <tr>\n",
       "      <th>Argentina</th>\n",
       "      <th>Transport</th>\n",
       "      <td>13871.0</td>\n",
       "    </tr>\n",
       "  </tbody>\n",
       "</table>\n",
       "</div>"
      ],
      "text/plain": [
       "                                                    Amount\n",
       "Country            Sector                                 \n",
       "Venezuela          Mulit-sector and discretionary  40500.0\n",
       "Russian Federation Extraction and Pipelines        27500.0\n",
       "Brazil             Extraction and Pipelines        25000.0\n",
       "Pakistan           Power                           18406.0\n",
       "Angola             Extraction and Pipelines        17500.0\n",
       "Pakistan           Transport                       16803.0\n",
       "Venezuela          Extraction and Pipelines        15200.0\n",
       "Iran               Other construction              15000.0\n",
       "Turkmenistan       Extraction and Pipelines        14200.0\n",
       "Argentina          Transport                       13871.0"
      ]
     },
     "execution_count": 72,
     "metadata": {},
     "output_type": "execute_result"
    }
   ],
   "source": [
    "loan_country_sector[['Amount']].sort_values('Amount', ascending = False).head(10)"
   ]
  },
  {
   "cell_type": "markdown",
   "metadata": {},
   "source": [
    "Let us plot what percent of total loans are given by a particular bank."
   ]
  },
  {
   "cell_type": "code",
   "execution_count": 73,
   "metadata": {},
   "outputs": [
    {
     "name": "stdout",
     "output_type": "stream",
     "text": [
      "5 232 634\n"
     ]
    }
   ],
   "source": [
    "print(sum(df['Lender_Others']), sum(df['Lender_CDB']),sum(df['Lender_Eximbank']))"
   ]
  },
  {
   "cell_type": "code",
   "execution_count": 74,
   "metadata": {},
   "outputs": [
    {
     "data": {
      "text/plain": [
       "Text(0.5, 1.0, 'Lender Eximbank')"
      ]
     },
     "execution_count": 74,
     "metadata": {},
     "output_type": "execute_result"
    },
    {
     "data": {
      "image/png": "[encoded data removed]",
      "text/plain": [
       "<Figure size 1512x864 with 3 Axes>"
      ]
     },
     "metadata": {},
     "output_type": "display_data"
    }
   ],
   "source": [
    "plt.figure(figsize = (21,12))\n",
    "\n",
    "c = df['Lender_Others'].value_counts()\n",
    "plt.subplot(1,3,1)\n",
    "plt.pie(x = c, data = df, labels = c.index, colors = ['y','Green'],autopct='%.0f%%')\n",
    "plt.title('Lender Others')\n",
    "\n",
    "c = df['Lender_CDB'].value_counts()\n",
    "plt.subplot(1,3,2)\n",
    "plt.pie(x = c, data = df, labels = c.index, colors = ['y','Green'],autopct='%.0f%%')\n",
    "plt.title('Lender CDB')\n",
    "\n",
    "c = df['Lender_Eximbank'].value_counts()\n",
    "plt.subplot(1,3,3)\n",
    "plt.pie(x = c, data = df, labels = c.index, colors = ['Green','y'],autopct='%.0f%%')\n",
    "plt.title('Lender Eximbank')"
   ]
  },
  {
   "cell_type": "markdown",
   "metadata": {},
   "source": [
    "CDB lender has contributed in 27% of the total number of loans given.\n",
    "\n",
    "Eximbank lender has contributed in almost 75% of the total number of loans given.\n",
    "\n",
    "Other lenders have given out very less number of loans.\n",
    "\n",
    "Let us find out the relation between the number of loans given out by a bank and the sum of the amount the bank has given out loans."
   ]
  },
  {
   "cell_type": "code",
   "execution_count": 75,
   "metadata": {},
   "outputs": [
    {
     "data": {
      "text/html": [
       "<div>\n",
       "<style scoped>\n",
       "    .dataframe tbody tr th:only-of-type {\n",
       "        vertical-align: middle;\n",
       "    }\n",
       "\n",
       "    .dataframe tbody tr th {\n",
       "        vertical-align: top;\n",
       "    }\n",
       "\n",
       "    .dataframe thead th {\n",
       "        text-align: right;\n",
       "    }\n",
       "</style>\n",
       "<table border=\"1\" class=\"dataframe\">\n",
       "  <thead>\n",
       "    <tr style=\"text-align: right;\">\n",
       "      <th></th>\n",
       "      <th>Amount</th>\n",
       "      <th>Lender_Eximbank</th>\n",
       "    </tr>\n",
       "    <tr>\n",
       "      <th>Lender_Eximbank</th>\n",
       "      <th></th>\n",
       "      <th></th>\n",
       "    </tr>\n",
       "  </thead>\n",
       "  <tbody>\n",
       "    <tr>\n",
       "      <th>0</th>\n",
       "      <td>247198.0</td>\n",
       "      <td>223</td>\n",
       "    </tr>\n",
       "    <tr>\n",
       "      <th>1</th>\n",
       "      <td>214949.0</td>\n",
       "      <td>634</td>\n",
       "    </tr>\n",
       "  </tbody>\n",
       "</table>\n",
       "</div>"
      ],
      "text/plain": [
       "                   Amount  Lender_Eximbank\n",
       "Lender_Eximbank                           \n",
       "0                247198.0              223\n",
       "1                214949.0              634"
      ]
     },
     "execution_count": 75,
     "metadata": {},
     "output_type": "execute_result"
    }
   ],
   "source": [
    "loan_Eximbank = df[['Lender_Eximbank','Amount']].groupby('Lender_Eximbank').agg({'Amount':'sum','Lender_Eximbank':'count'})\n",
    "loan_Eximbank"
   ]
  },
  {
   "cell_type": "code",
   "execution_count": 76,
   "metadata": {},
   "outputs": [
    {
     "data": {
      "text/html": [
       "<div>\n",
       "<style scoped>\n",
       "    .dataframe tbody tr th:only-of-type {\n",
       "        vertical-align: middle;\n",
       "    }\n",
       "\n",
       "    .dataframe tbody tr th {\n",
       "        vertical-align: top;\n",
       "    }\n",
       "\n",
       "    .dataframe thead th {\n",
       "        text-align: right;\n",
       "    }\n",
       "</style>\n",
       "<table border=\"1\" class=\"dataframe\">\n",
       "  <thead>\n",
       "    <tr style=\"text-align: right;\">\n",
       "      <th></th>\n",
       "      <th>Amount</th>\n",
       "      <th>Count</th>\n",
       "    </tr>\n",
       "    <tr>\n",
       "      <th>Lender_Eximbank</th>\n",
       "      <th></th>\n",
       "      <th></th>\n",
       "    </tr>\n",
       "  </thead>\n",
       "  <tbody>\n",
       "    <tr>\n",
       "      <th>0</th>\n",
       "      <td>247198.0</td>\n",
       "      <td>223</td>\n",
       "    </tr>\n",
       "    <tr>\n",
       "      <th>1</th>\n",
       "      <td>214949.0</td>\n",
       "      <td>634</td>\n",
       "    </tr>\n",
       "  </tbody>\n",
       "</table>\n",
       "</div>"
      ],
      "text/plain": [
       "                   Amount  Count\n",
       "Lender_Eximbank                 \n",
       "0                247198.0    223\n",
       "1                214949.0    634"
      ]
     },
     "execution_count": 76,
     "metadata": {},
     "output_type": "execute_result"
    }
   ],
   "source": [
    "loan_Eximbank.rename(columns = {'Lender_Eximbank':'Count'},inplace = True)\n",
    "loan_Eximbank"
   ]
  },
  {
   "cell_type": "code",
   "execution_count": 77,
   "metadata": {},
   "outputs": [
    {
     "data": {
      "text/html": [
       "<div>\n",
       "<style scoped>\n",
       "    .dataframe tbody tr th:only-of-type {\n",
       "        vertical-align: middle;\n",
       "    }\n",
       "\n",
       "    .dataframe tbody tr th {\n",
       "        vertical-align: top;\n",
       "    }\n",
       "\n",
       "    .dataframe thead th {\n",
       "        text-align: right;\n",
       "    }\n",
       "</style>\n",
       "<table border=\"1\" class=\"dataframe\">\n",
       "  <thead>\n",
       "    <tr style=\"text-align: right;\">\n",
       "      <th></th>\n",
       "      <th>Amount</th>\n",
       "      <th>Lender_CDB</th>\n",
       "    </tr>\n",
       "    <tr>\n",
       "      <th>Lender_CDB</th>\n",
       "      <th></th>\n",
       "      <th></th>\n",
       "    </tr>\n",
       "  </thead>\n",
       "  <tbody>\n",
       "    <tr>\n",
       "      <th>0</th>\n",
       "      <td>202309.0</td>\n",
       "      <td>625</td>\n",
       "    </tr>\n",
       "    <tr>\n",
       "      <th>1</th>\n",
       "      <td>259838.0</td>\n",
       "      <td>232</td>\n",
       "    </tr>\n",
       "  </tbody>\n",
       "</table>\n",
       "</div>"
      ],
      "text/plain": [
       "              Amount  Lender_CDB\n",
       "Lender_CDB                      \n",
       "0           202309.0         625\n",
       "1           259838.0         232"
      ]
     },
     "execution_count": 77,
     "metadata": {},
     "output_type": "execute_result"
    }
   ],
   "source": [
    "loan_CDB = df[['Lender_CDB','Amount']].groupby('Lender_CDB').agg({'Amount':'sum','Lender_CDB':'count'})\n",
    "loan_CDB"
   ]
  },
  {
   "cell_type": "code",
   "execution_count": 78,
   "metadata": {},
   "outputs": [
    {
     "data": {
      "text/html": [
       "<div>\n",
       "<style scoped>\n",
       "    .dataframe tbody tr th:only-of-type {\n",
       "        vertical-align: middle;\n",
       "    }\n",
       "\n",
       "    .dataframe tbody tr th {\n",
       "        vertical-align: top;\n",
       "    }\n",
       "\n",
       "    .dataframe thead th {\n",
       "        text-align: right;\n",
       "    }\n",
       "</style>\n",
       "<table border=\"1\" class=\"dataframe\">\n",
       "  <thead>\n",
       "    <tr style=\"text-align: right;\">\n",
       "      <th></th>\n",
       "      <th>Amount</th>\n",
       "      <th>Count</th>\n",
       "    </tr>\n",
       "    <tr>\n",
       "      <th>Lender_CDB</th>\n",
       "      <th></th>\n",
       "      <th></th>\n",
       "    </tr>\n",
       "  </thead>\n",
       "  <tbody>\n",
       "    <tr>\n",
       "      <th>0</th>\n",
       "      <td>202309.0</td>\n",
       "      <td>625</td>\n",
       "    </tr>\n",
       "    <tr>\n",
       "      <th>1</th>\n",
       "      <td>259838.0</td>\n",
       "      <td>232</td>\n",
       "    </tr>\n",
       "  </tbody>\n",
       "</table>\n",
       "</div>"
      ],
      "text/plain": [
       "              Amount  Count\n",
       "Lender_CDB                 \n",
       "0           202309.0    625\n",
       "1           259838.0    232"
      ]
     },
     "execution_count": 78,
     "metadata": {},
     "output_type": "execute_result"
    }
   ],
   "source": [
    "loan_CDB.rename(columns = {'Lender_CDB':'Count'},inplace = True)\n",
    "loan_CDB"
   ]
  },
  {
   "cell_type": "code",
   "execution_count": 79,
   "metadata": {},
   "outputs": [
    {
     "data": {
      "text/html": [
       "<div>\n",
       "<style scoped>\n",
       "    .dataframe tbody tr th:only-of-type {\n",
       "        vertical-align: middle;\n",
       "    }\n",
       "\n",
       "    .dataframe tbody tr th {\n",
       "        vertical-align: top;\n",
       "    }\n",
       "\n",
       "    .dataframe thead th {\n",
       "        text-align: right;\n",
       "    }\n",
       "</style>\n",
       "<table border=\"1\" class=\"dataframe\">\n",
       "  <thead>\n",
       "    <tr style=\"text-align: right;\">\n",
       "      <th></th>\n",
       "      <th>Amount</th>\n",
       "      <th>Lender_Others</th>\n",
       "    </tr>\n",
       "    <tr>\n",
       "      <th>Lender_Others</th>\n",
       "      <th></th>\n",
       "      <th></th>\n",
       "    </tr>\n",
       "  </thead>\n",
       "  <tbody>\n",
       "    <tr>\n",
       "      <th>0</th>\n",
       "      <td>447884.0</td>\n",
       "      <td>852</td>\n",
       "    </tr>\n",
       "    <tr>\n",
       "      <th>1</th>\n",
       "      <td>14263.0</td>\n",
       "      <td>5</td>\n",
       "    </tr>\n",
       "  </tbody>\n",
       "</table>\n",
       "</div>"
      ],
      "text/plain": [
       "                 Amount  Lender_Others\n",
       "Lender_Others                         \n",
       "0              447884.0            852\n",
       "1               14263.0              5"
      ]
     },
     "execution_count": 79,
     "metadata": {},
     "output_type": "execute_result"
    }
   ],
   "source": [
    "loan_Others = df[['Lender_Others','Amount']].groupby('Lender_Others').agg({'Amount':'sum','Lender_Others':'count'})\n",
    "loan_Others"
   ]
  },
  {
   "cell_type": "code",
   "execution_count": 80,
   "metadata": {},
   "outputs": [
    {
     "data": {
      "text/html": [
       "<div>\n",
       "<style scoped>\n",
       "    .dataframe tbody tr th:only-of-type {\n",
       "        vertical-align: middle;\n",
       "    }\n",
       "\n",
       "    .dataframe tbody tr th {\n",
       "        vertical-align: top;\n",
       "    }\n",
       "\n",
       "    .dataframe thead th {\n",
       "        text-align: right;\n",
       "    }\n",
       "</style>\n",
       "<table border=\"1\" class=\"dataframe\">\n",
       "  <thead>\n",
       "    <tr style=\"text-align: right;\">\n",
       "      <th></th>\n",
       "      <th>Amount</th>\n",
       "      <th>Count</th>\n",
       "    </tr>\n",
       "    <tr>\n",
       "      <th>Lender_Others</th>\n",
       "      <th></th>\n",
       "      <th></th>\n",
       "    </tr>\n",
       "  </thead>\n",
       "  <tbody>\n",
       "    <tr>\n",
       "      <th>0</th>\n",
       "      <td>447884.0</td>\n",
       "      <td>852</td>\n",
       "    </tr>\n",
       "    <tr>\n",
       "      <th>1</th>\n",
       "      <td>14263.0</td>\n",
       "      <td>5</td>\n",
       "    </tr>\n",
       "  </tbody>\n",
       "</table>\n",
       "</div>"
      ],
      "text/plain": [
       "                 Amount  Count\n",
       "Lender_Others                 \n",
       "0              447884.0    852\n",
       "1               14263.0      5"
      ]
     },
     "execution_count": 80,
     "metadata": {},
     "output_type": "execute_result"
    }
   ],
   "source": [
    "loan_Others.rename(columns = {'Lender_Others':'Count'},inplace = True)\n",
    "loan_Others"
   ]
  },
  {
   "cell_type": "markdown",
   "metadata": {},
   "source": [
    "Now that we have all the information we need, let us create a dataframe from it."
   ]
  },
  {
   "cell_type": "code",
   "execution_count": 81,
   "metadata": {},
   "outputs": [
    {
     "data": {
      "text/plain": [
       "[['Eximbank', 214949.0, 634], ['CDB', 259838.0, 232], ['Others', 14263.0, 5]]"
      ]
     },
     "execution_count": 81,
     "metadata": {},
     "output_type": "execute_result"
    }
   ],
   "source": [
    "bank_amount = [['Eximbank', loan_Eximbank.loc[1,'Amount'],loan_Eximbank.loc[1,'Count']], \n",
    "               ['CDB', loan_CDB.loc[1,'Amount'],loan_CDB.loc[1,'Count']], \n",
    "               ['Others',loan_Others.loc[1,'Amount'], loan_Others.loc[1,'Count']]]\n",
    "bank_amount"
   ]
  },
  {
   "cell_type": "code",
   "execution_count": 82,
   "metadata": {},
   "outputs": [
    {
     "data": {
      "text/html": [
       "<div>\n",
       "<style scoped>\n",
       "    .dataframe tbody tr th:only-of-type {\n",
       "        vertical-align: middle;\n",
       "    }\n",
       "\n",
       "    .dataframe tbody tr th {\n",
       "        vertical-align: top;\n",
       "    }\n",
       "\n",
       "    .dataframe thead th {\n",
       "        text-align: right;\n",
       "    }\n",
       "</style>\n",
       "<table border=\"1\" class=\"dataframe\">\n",
       "  <thead>\n",
       "    <tr style=\"text-align: right;\">\n",
       "      <th></th>\n",
       "      <th>Total_loan_amount</th>\n",
       "      <th>Number_of_loans</th>\n",
       "    </tr>\n",
       "    <tr>\n",
       "      <th>Bank_name</th>\n",
       "      <th></th>\n",
       "      <th></th>\n",
       "    </tr>\n",
       "  </thead>\n",
       "  <tbody>\n",
       "    <tr>\n",
       "      <th>Eximbank</th>\n",
       "      <td>214949.0</td>\n",
       "      <td>634</td>\n",
       "    </tr>\n",
       "    <tr>\n",
       "      <th>CDB</th>\n",
       "      <td>259838.0</td>\n",
       "      <td>232</td>\n",
       "    </tr>\n",
       "    <tr>\n",
       "      <th>Others</th>\n",
       "      <td>14263.0</td>\n",
       "      <td>5</td>\n",
       "    </tr>\n",
       "  </tbody>\n",
       "</table>\n",
       "</div>"
      ],
      "text/plain": [
       "           Total_loan_amount  Number_of_loans\n",
       "Bank_name                                    \n",
       "Eximbank            214949.0              634\n",
       "CDB                 259838.0              232\n",
       "Others               14263.0                5"
      ]
     },
     "execution_count": 82,
     "metadata": {},
     "output_type": "execute_result"
    }
   ],
   "source": [
    "bank_data = pd.DataFrame(bank_amount, columns = ['Bank_name', 'Total_loan_amount', 'Number_of_loans'])\n",
    "bank_data.set_index('Bank_name',inplace = True)\n",
    "bank_data"
   ]
  },
  {
   "cell_type": "markdown",
   "metadata": {},
   "source": [
    "Now we have a dataframe and we can use this dataframe to plot graphs to find out the relation between the sum of amount of loans and number of loans."
   ]
  },
  {
   "cell_type": "code",
   "execution_count": 83,
   "metadata": {},
   "outputs": [
    {
     "data": {
      "text/plain": [
       "Text(0, 0.5, 'Total Loan Amount(in Millions)')"
      ]
     },
     "execution_count": 83,
     "metadata": {},
     "output_type": "execute_result"
    },
    {
     "data": {
      "image/png": "[encoded data removed]",
      "text/plain": [
       "<Figure size 864x720 with 2 Axes>"
      ]
     },
     "metadata": {
      "needs_background": "light"
     },
     "output_type": "display_data"
    }
   ],
   "source": [
    "plt.figure(figsize = (12, 10))\n",
    "\n",
    "plt.subplot(2,1,1)\n",
    "plt.bar(x = bank_data.index, height = bank_data['Number_of_loans'], color = 'Orange')\n",
    "plt.ylabel(' Total Number of loans given')\n",
    "\n",
    "plt.subplot(2,1,2)\n",
    "plt.bar(x = bank_data.index,height = bank_data['Total_loan_amount'], color = 'Green')\n",
    "plt.ylabel('Total Loan Amount(in Millions)')"
   ]
  },
  {
   "cell_type": "markdown",
   "metadata": {},
   "source": [
    "Let us visualize the data for Sensitive Territory Overlap."
   ]
  },
  {
   "cell_type": "code",
   "execution_count": 84,
   "metadata": {},
   "outputs": [
    {
     "data": {
      "text/plain": [
       "Text(0.5, 1.0, 'Sensitive Territory - National')"
      ]
     },
     "execution_count": 84,
     "metadata": {},
     "output_type": "execute_result"
    },
    {
     "data": {
      "image/png": "[encoded data removed]",
      "text/plain": [
       "<Figure size 1440x1152 with 4 Axes>"
      ]
     },
     "metadata": {},
     "output_type": "display_data"
    }
   ],
   "source": [
    "plt.figure(figsize=(20,16))\n",
    "\n",
    "a1 = df['ST_None'].value_counts()\n",
    "plt.subplot(2,2,1)\n",
    "plt.pie(x = a1, data = df, labels = a1.index, colors = ['Green','y'],autopct='%.0f%%')\n",
    "plt.title('Sensitive Territory - None')\n",
    "\n",
    "a2 = df['ST_Critical'].value_counts()\n",
    "plt.subplot(2,2,2)\n",
    "plt.pie(x = a2, data = df, labels = a2.index, colors = ['y','Green'],autopct='%.0f%%')\n",
    "plt.title('Sensitive Territory-Critical')\n",
    "\n",
    "a3 = df['ST_Indigenous'].value_counts()\n",
    "plt.subplot(2,2,3)\n",
    "plt.pie(x = a3, data = df, labels = a3.index, colors = ['y','Green'],autopct='%.0f%%')\n",
    "plt.title('Sensitive Territory - Indigenous')\n",
    "\n",
    "a4 = df['ST_National'].value_counts()\n",
    "plt.subplot(2,2,4)\n",
    "plt.pie(x = a4, data = df, labels = a4.index, colors = ['y','Green'],autopct='%.0f%%')\n",
    "plt.title('Sensitive Territory - National')"
   ]
  },
  {
   "cell_type": "markdown",
   "metadata": {},
   "source": [
    "Let's plot the pie chart for borrower column"
   ]
  },
  {
   "cell_type": "code",
   "execution_count": 85,
   "metadata": {},
   "outputs": [
    {
     "data": {
      "text/plain": [
       "Text(0.5, 1.0, \"If the borrower is country's government\")"
      ]
     },
     "execution_count": 85,
     "metadata": {},
     "output_type": "execute_result"
    },
    {
     "data": {
      "image/png": "[encoded data removed]",
      "text/plain": [
       "<Figure size 576x576 with 1 Axes>"
      ]
     },
     "metadata": {},
     "output_type": "display_data"
    }
   ],
   "source": [
    "plt.figure(figsize=(8,8))\n",
    "b = df['Borrower_Gov'].value_counts()\n",
    "plt.pie(x = b, data = df, labels = b.index, colors = ['Green','y'],autopct='%.0f%%')\n",
    "plt.title(\"If the borrower is country's government\")"
   ]
  },
  {
   "cell_type": "markdown",
   "metadata": {},
   "source": [
    "79% of the total loans were taken by some country's Government. That is a high percent.\n",
    "\n",
    "We can say that Chinese banks grant high percent of loans to country's Governments."
   ]
  },
  {
   "cell_type": "code",
   "execution_count": null,
   "metadata": {},
   "outputs": [],
   "source": []
  }
 ],
 "metadata": {
  "kernelspec": {
   "display_name": "Python 3",
   "language": "python",
   "name": "python3"
  },
  "language_info": {
   "codemirror_mode": {
    "name": "ipython",
    "version": 3
   },
   "file_extension": ".py",
   "mimetype": "text/x-python",
   "name": "python",
   "nbconvert_exporter": "python",
   "pygments_lexer": "ipython3",
   "version": "3.8.5"
  }
 },
 "nbformat": 4,
 "nbformat_minor": 4
}
